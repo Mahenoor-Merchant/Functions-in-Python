{
 "cells": [
  {
   "cell_type": "markdown",
   "id": "4f8f0a3c-2191-49c1-ae39-938a79c9f727",
   "metadata": {},
   "source": [
    "odd numbers in the range 1 to 25"
   ]
  },
  {
   "cell_type": "code",
   "execution_count": 1,
   "id": "e055558b-30ea-4784-b5b0-787a2dff5b0f",
   "metadata": {},
   "outputs": [
    {
     "name": "stdout",
     "output_type": "stream",
     "text": [
      "1, 3, 5, 7, 9, 11, 13, 15, 17, 19, 21, 23, 25\n"
     ]
    }
   ],
   "source": [
    "\"The keyword def is used to create a function\"\n",
    "\n",
    "def get_odd_numbers( ):\n",
    "    odd_numbers=[]\n",
    "    for i in range(1, 26):\n",
    "        if i % 2 != 0:\n",
    "            odd_numbers.append(i)\n",
    "    return odd_numbers\n",
    "            \n",
    "odd_numbers=get_odd_numbers()\n",
    "print(*odd_numbers, sep=\", \")"
   ]
  },
  {
   "cell_type": "markdown",
   "id": "a21232fa-0923-4045-8ad6-637f638884f2",
   "metadata": {},
   "source": [
    "*args is used in some function it means to pass whatever is coded\n",
    "  whatever is written will be passed as it is , one can use any other\n",
    "  name/keyword instead of *args but keep in mind that '*' is necessary"
   ]
  },
  {
   "cell_type": "code",
   "execution_count": 5,
   "id": "82e009bd-e240-415a-9c8f-0afd05fb5fbb",
   "metadata": {},
   "outputs": [],
   "source": [
    "def test(*args):\n",
    "    return args"
   ]
  },
  {
   "cell_type": "code",
   "execution_count": 6,
   "id": "b443d524-f3c8-4a9e-9573-6ba8831ce8c8",
   "metadata": {},
   "outputs": [
    {
     "data": {
      "text/plain": [
       "('INUERON',)"
      ]
     },
     "execution_count": 6,
     "metadata": {},
     "output_type": "execute_result"
    }
   ],
   "source": [
    "test(\"INUERON\")"
   ]
  },
  {
   "cell_type": "markdown",
   "id": "97616ae5-d7eb-46b0-b09b-ee21e4775cb1",
   "metadata": {},
   "source": [
    "**kwargs is used when we want to pass as a dictionary in key and value pair,\n",
    "  one must keep in mind that ** is necessary for a key value pair."
   ]
  },
  {
   "cell_type": "code",
   "execution_count": 11,
   "id": "fc5347d9-4e74-43ae-9bff-b6617e748760",
   "metadata": {},
   "outputs": [],
   "source": [
    "def test1(**kwargs):\n",
    "    return kwargs"
   ]
  },
  {
   "cell_type": "code",
   "execution_count": 12,
   "id": "c4bb3391-8342-4e6b-aca9-bb1ed2799097",
   "metadata": {},
   "outputs": [
    {
     "data": {
      "text/plain": [
       "{'a': 15, 'b': 20}"
      ]
     },
     "execution_count": 12,
     "metadata": {},
     "output_type": "execute_result"
    }
   ],
   "source": [
    "test1(a=15,b=20)"
   ]
  },
  {
   "cell_type": "markdown",
   "id": "0a59b5d1-8b05-4b71-85b1-9be6a334f8b5",
   "metadata": {},
   "source": [
    "WHAT IS AN ITERATOR IN PYTHON? NAME THE METHOD USED TO INITIALIZE THE ITERATOR OBJECT AND THE METHOD USED FOR INTERATION?"
   ]
  },
  {
   "cell_type": "markdown",
   "id": "b3e5f7b1-52a1-4c82-a48e-35b48b099db8",
   "metadata": {},
   "source": [
    "ANS: AN ITERATOR IS AN OBJECT THAT CONTAINS A COUNTABLE NUMBER OF VALUES AND THAT CAN BE ITERATED UPON. __iter__() METHOD IS CALLED FOR INITIALIZATION  OF AN ITERTATOR OBJECT AND __next__() METHOD RETURNS THE NEXT VALUE FO THE ITERABLE."
   ]
  },
  {
   "cell_type": "code",
   "execution_count": 33,
   "id": "7d08f22c-98a9-4954-a093-fe4111f2fcff",
   "metadata": {},
   "outputs": [
    {
     "name": "stdout",
     "output_type": "stream",
     "text": [
      "2\n",
      "4\n",
      "6\n",
      "8\n",
      "10\n"
     ]
    }
   ],
   "source": [
    "list=[2, 4, 6, 8, 10, 12, 14,16, 18, 20]\n",
    "iterator=iter(list)\n",
    "\n",
    "for i in range (5):\n",
    "    print(next(iterator))\n",
    "    "
   ]
  },
  {
   "cell_type": "markdown",
   "id": "089db7ef-e9e7-4b94-9ab4-d48d16a941cb",
   "metadata": {},
   "source": [
    "WHAT IS A GENERATOR FUNCTION IN PYTHON? WHY YIELD KEYWORD IS USED? GIVE AN EXAMPLE OF GENERATOR FUNCTION.\n"
   ]
  },
  {
   "cell_type": "markdown",
   "id": "7c9f4e5c-9712-4d38-b9bf-b573ae29dc24",
   "metadata": {},
   "source": [
    "GENERATOR FUNCTION IS A SPECIAL TYPE OF FUNCTION THAT CAN BE USED TO GENERATE A SEQUENCE OF VALUES OVERTIME,\n",
    "INSTEAD OF COMPUTING THE VALUES AT ONCE AND RETURNING THEM IN A LIST. THE GENERATOR FUNCTION USES yield KEYWORD INSTEAD OF return TO PRODUCE A VALUE.EACH TIME A GENERATOR FUNCTION IS CALLED , IT RESUMES EXECUTION FROM WHERE IT WAS PAUSED AND RUNS UNTIL IT ENCOUNTERS THE NEXT yield STATEMENT.GENERATOR FUNCTIONS ARE USED FOR ITERATION."
   ]
  },
  {
   "cell_type": "code",
   "execution_count": 61,
   "id": "1a15f268-a130-4750-a23a-e21da4d16690",
   "metadata": {},
   "outputs": [
    {
     "name": "stdout",
     "output_type": "stream",
     "text": [
      "0\n",
      "1\n",
      "2\n",
      "3\n",
      "4\n",
      "5\n",
      "6\n",
      "7\n",
      "8\n",
      "9\n",
      "10\n"
     ]
    }
   ],
   "source": [
    "l=range(11)\n",
    "iterator=iter(list)\n",
    "\n",
    "for i in range (11):\n",
    "    print(next(iterator))"
   ]
  },
  {
   "cell_type": "markdown",
   "id": "c154deb7-17cf-4235-8fbc-14ded4b4fcdf",
   "metadata": {},
   "source": [
    "CREATE A GENERATOR FUNCTION FOR PRIME NUMBERS LESS THAN 1000.USE THE NEXT() METHOD TO PRINT FIRST 20 PRIME NUMBERS."
   ]
  },
  {
   "cell_type": "code",
   "execution_count": 55,
   "id": "85735c47-5154-46d1-a0bc-a3ed4d6e6fd1",
   "metadata": {},
   "outputs": [],
   "source": [
    "\n",
    "def prime_number ():\n",
    "    primes=[]\n",
    "    for num in range(2,1000):\n",
    "            is_prime=True\n",
    "            for prime in primes:\n",
    "                if num%prime==0:\n",
    "                    is_prime=False\n",
    "                    break\n",
    "              \n",
    "            if is_prime:\n",
    "                primes.append(num)\n",
    "                yield num\n",
    "            "
   ]
  },
  {
   "cell_type": "code",
   "execution_count": 2,
   "id": "2524c84d-7743-42a8-9b54-ac6f036c8048",
   "metadata": {},
   "outputs": [
    {
     "name": "stdout",
     "output_type": "stream",
     "text": [
      "0\n",
      "1\n",
      "1\n",
      "2\n",
      "3\n",
      "5\n",
      "8\n",
      "13\n",
      "21\n",
      "34\n"
     ]
    }
   ],
   "source": [
    "a=0\n",
    "b=1\n",
    "counter=0\n",
    "while counter<10:\n",
    "    print (a)\n",
    "    c=a+b\n",
    "    a=b\n",
    "    b=c\n",
    "    counter+=1\n",
    "   "
   ]
  },
  {
   "cell_type": "code",
   "execution_count": 56,
   "id": "07865567-d72c-4398-8a49-6726f5b37c72",
   "metadata": {},
   "outputs": [
    {
     "name": "stdout",
     "output_type": "stream",
     "text": [
      "2\n",
      "3\n",
      "5\n",
      "7\n",
      "11\n",
      "13\n",
      "17\n",
      "19\n",
      "23\n",
      "29\n",
      "31\n",
      "37\n",
      "41\n",
      "43\n",
      "47\n",
      "53\n",
      "59\n",
      "61\n",
      "67\n",
      "71\n"
     ]
    }
   ],
   "source": [
    "primes=prime_number()\n",
    "for i in range (20):\n",
    "    print(next(primes))"
   ]
  },
  {
   "cell_type": "markdown",
   "id": "08a67a05-8c36-4fd3-b188-2fe6223a13be",
   "metadata": {},
   "source": [
    "A Python program to print the first 10 Fibonacci numbers using a while loop."
   ]
  },
  {
   "cell_type": "code",
   "execution_count": 57,
   "id": "4939013a-9701-45f2-9e7b-ed29441b56a1",
   "metadata": {},
   "outputs": [
    {
     "name": "stdout",
     "output_type": "stream",
     "text": [
      "0\n",
      "1\n",
      "1\n",
      "2\n",
      "3\n",
      "5\n",
      "8\n",
      "13\n",
      "21\n",
      "34\n",
      "55\n"
     ]
    }
   ],
   "source": [
    "a=0\n",
    "b=1\n",
    "counter=0\n",
    "while counter<=10:\n",
    "    print (a)\n",
    "    c=a+b\n",
    "    a=b\n",
    "    b=c\n",
    "    counter+=1\n",
    "   "
   ]
  },
  {
   "cell_type": "markdown",
   "id": "b048f86e-6204-46a0-80e7-d44e5c9a6298",
   "metadata": {},
   "source": [
    "Write a List Comprehension to iterate through the given string: ‘pwskills’."
   ]
  },
  {
   "cell_type": "code",
   "execution_count": 6,
   "id": "1012ceac-29d6-4b85-a48b-89baa81903fd",
   "metadata": {},
   "outputs": [],
   "source": [
    "s=\"pwskills\""
   ]
  },
  {
   "cell_type": "code",
   "execution_count": 11,
   "id": "d7802799-c058-4001-a0f2-4131a6b5bec2",
   "metadata": {},
   "outputs": [
    {
     "data": {
      "text/plain": [
       "['P', 'W', 'S', 'K', 'I', 'L', 'L', 'S']"
      ]
     },
     "execution_count": 11,
     "metadata": {},
     "output_type": "execute_result"
    }
   ],
   "source": [
    "list(map(lambda x : x.upper(),s))"
   ]
  },
  {
   "cell_type": "markdown",
   "id": "6e0ff8e1-33ee-413b-bd05-d4baeb4a9aab",
   "metadata": {},
   "source": [
    "Write a python program to check whether a given number is Palindrome or not using a while loop."
   ]
  },
  {
   "cell_type": "code",
   "execution_count": 3,
   "id": "50acd2f9-7115-47c4-b490-f6b80d62aadb",
   "metadata": {},
   "outputs": [
    {
     "name": "stdin",
     "output_type": "stream",
     "text": [
      "enter the number to check whether it is a palindrome or not: 66\n"
     ]
    },
    {
     "name": "stdout",
     "output_type": "stream",
     "text": [
      "it is a palindrome\n"
     ]
    }
   ],
   "source": [
    "num=(int(input(\"enter the number to check whether it is a palindrome or not:\")))\n",
    "counter=0\n",
    "\n",
    "while counter<1:\n",
    "    counter+=1\n",
    "    if str(num)==str(num)[::-1]:\n",
    "        print(\"it is a palindrome\")\n",
    "    else:\n",
    "        print(\"it is a not palindrome\")"
   ]
  },
  {
   "cell_type": "markdown",
   "id": "ca72db53-3502-41b0-87aa-58e0398971bb",
   "metadata": {},
   "source": [
    "Write a code to print odd numbers from 1 to 100 using list comprehension."
   ]
  },
  {
   "cell_type": "code",
   "execution_count": 3,
   "id": "2f28d793-7145-4d8e-8e5d-1af71fae7cb4",
   "metadata": {},
   "outputs": [],
   "source": [
    "l1=list(range(100))"
   ]
  },
  {
   "cell_type": "code",
   "execution_count": 4,
   "id": "5bc194ea-44fd-4503-a22d-b03a5718740e",
   "metadata": {},
   "outputs": [
    {
     "data": {
      "text/plain": [
       "[1,\n",
       " 3,\n",
       " 5,\n",
       " 7,\n",
       " 9,\n",
       " 11,\n",
       " 13,\n",
       " 15,\n",
       " 17,\n",
       " 19,\n",
       " 21,\n",
       " 23,\n",
       " 25,\n",
       " 27,\n",
       " 29,\n",
       " 31,\n",
       " 33,\n",
       " 35,\n",
       " 37,\n",
       " 39,\n",
       " 41,\n",
       " 43,\n",
       " 45,\n",
       " 47,\n",
       " 49,\n",
       " 51,\n",
       " 53,\n",
       " 55,\n",
       " 57,\n",
       " 59,\n",
       " 61,\n",
       " 63,\n",
       " 65,\n",
       " 67,\n",
       " 69,\n",
       " 71,\n",
       " 73,\n",
       " 75,\n",
       " 77,\n",
       " 79,\n",
       " 81,\n",
       " 83,\n",
       " 85,\n",
       " 87,\n",
       " 89,\n",
       " 91,\n",
       " 93,\n",
       " 95,\n",
       " 97,\n",
       " 99]"
      ]
     },
     "execution_count": 4,
     "metadata": {},
     "output_type": "execute_result"
    }
   ],
   "source": [
    "list(filter(lambda x: x % 2 !=0,l1))"
   ]
  }
 ],
 "metadata": {
  "kernelspec": {
   "display_name": "Python 3 (ipykernel)",
   "language": "python",
   "name": "python3"
  },
  "language_info": {
   "codemirror_mode": {
    "name": "ipython",
    "version": 3
   },
   "file_extension": ".py",
   "mimetype": "text/x-python",
   "name": "python",
   "nbconvert_exporter": "python",
   "pygments_lexer": "ipython3",
   "version": "3.10.8"
  }
 },
 "nbformat": 4,
 "nbformat_minor": 5
}
