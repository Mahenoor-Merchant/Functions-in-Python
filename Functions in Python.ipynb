{
 "cells": [
  {
   "cell_type": "markdown",
   "id": "c9e8bca4-b8b3-46cf-83fa-074663102f90",
   "metadata": {},
   "source": [
    "Q1.Create a python program to sort the given list of tuples based on integer value using a\n",
    "lambda function."
   ]
  },
  {
   "cell_type": "code",
   "execution_count": 2,
   "id": "65e0649f-301e-479e-be21-df74ada5db8c",
   "metadata": {},
   "outputs": [],
   "source": [
    "l=[('Sachin Tendulkar', 34357), ('Ricky Ponting', 27483), ('Jack Kallis', 25534), ('Virat Kohli', 24936)]"
   ]
  },
  {
   "cell_type": "code",
   "execution_count": 3,
   "id": "585ed47d-82b0-42c8-97cd-21fd8ca507ae",
   "metadata": {},
   "outputs": [
    {
     "name": "stdout",
     "output_type": "stream",
     "text": [
      "sorted_list: [('Virat Kohli', 24936), ('Jack Kallis', 25534), ('Ricky Ponting', 27483), ('Sachin Tendulkar', 34357)]\n"
     ]
    }
   ],
   "source": [
    "sorted_list=sorted(l,key=lambda x : x[1])\n",
    "\n",
    "print(\"sorted_list:\",sorted_list)"
   ]
  },
  {
   "cell_type": "markdown",
   "id": "96ffed2a-a194-446c-b58d-abe8a4a10793",
   "metadata": {},
   "source": [
    "Q2. Write a Python Program to find the squares of all the numbers in the given list of integers using\n",
    "lambda and map functions."
   ]
  },
  {
   "cell_type": "code",
   "execution_count": 4,
   "id": "d0be4e04-992e-4376-bbe8-48c8887b23fb",
   "metadata": {},
   "outputs": [],
   "source": [
    "list_int=[1, 2, 3, 4, 5, 6, 7, 8, 9, 10]"
   ]
  },
  {
   "cell_type": "code",
   "execution_count": 5,
   "id": "beaafedc-5446-418c-889e-5dcc9fa6c097",
   "metadata": {},
   "outputs": [
    {
     "data": {
      "text/plain": [
       "[1, 4, 9, 16, 25, 36, 49, 64, 81, 100]"
      ]
     },
     "execution_count": 5,
     "metadata": {},
     "output_type": "execute_result"
    }
   ],
   "source": [
    "list(map(lambda x : x**2,list_int))"
   ]
  },
  {
   "cell_type": "markdown",
   "id": "1f520746-a8e8-469f-9af9-12edf1465bd0",
   "metadata": {},
   "source": [
    "Q3. Write a python program to convert the given list of integers into a tuple of strings. Use map and\n",
    "lambda functions"
   ]
  },
  {
   "cell_type": "code",
   "execution_count": 6,
   "id": "767b8c61-04bc-42e0-9c3d-7af5d4278173",
   "metadata": {},
   "outputs": [],
   "source": [
    "list_integers=[1, 2, 3, 4, 5, 6, 7, 8, 9, 10]"
   ]
  },
  {
   "cell_type": "code",
   "execution_count": 7,
   "id": "b906dc55-2ec9-40ab-9716-e8d715bd897e",
   "metadata": {},
   "outputs": [
    {
     "data": {
      "text/plain": [
       "('1', '2', '3', '4', '5', '6', '7', '8', '9', '10')"
      ]
     },
     "execution_count": 7,
     "metadata": {},
     "output_type": "execute_result"
    }
   ],
   "source": [
    "tuple(map(lambda x : str(x) ,list_integers))"
   ]
  },
  {
   "cell_type": "markdown",
   "id": "9d2ad4e9-67d3-4fc8-a519-74667b895f3f",
   "metadata": {},
   "source": [
    "Q4. Write a python program using reduce function to compute the product of a list containing numbers\n",
    "from 1 to 25."
   ]
  },
  {
   "cell_type": "code",
   "execution_count": 8,
   "id": "628b02ad-5cbf-491f-91c1-7dd6d1600a7b",
   "metadata": {},
   "outputs": [],
   "source": [
    "l=list(range(1,26))"
   ]
  },
  {
   "cell_type": "code",
   "execution_count": 9,
   "id": "9eb35fec-f91b-46bb-a24d-845a70715c11",
   "metadata": {},
   "outputs": [],
   "source": [
    "from functools import reduce"
   ]
  },
  {
   "cell_type": "code",
   "execution_count": 10,
   "id": "ce54c5d8-2b61-411d-b2d8-68fe7376d491",
   "metadata": {},
   "outputs": [
    {
     "data": {
      "text/plain": [
       "15511210043330985984000000"
      ]
     },
     "execution_count": 10,
     "metadata": {},
     "output_type": "execute_result"
    }
   ],
   "source": [
    "reduce(lambda x,y : x * y , l)"
   ]
  },
  {
   "cell_type": "markdown",
   "id": "a0ba553b-5662-48fa-a437-4e40c87346e0",
   "metadata": {},
   "source": [
    "Q5. Write a python program to filter the numbers in a given list that are divisible by 2 and 3 using the\n",
    "filter function."
   ]
  },
  {
   "cell_type": "code",
   "execution_count": 12,
   "id": "0be94cb0-1f00-4492-a365-db83d4d9514e",
   "metadata": {},
   "outputs": [],
   "source": [
    "my_list=[2, 3, 6, 9, 27, 60, 90, 120, 55, 46]"
   ]
  },
  {
   "cell_type": "code",
   "execution_count": 13,
   "id": "f78837ba-92d4-4798-9606-cef5fbeaa85b",
   "metadata": {},
   "outputs": [
    {
     "data": {
      "text/plain": [
       "[6, 60, 90, 120]"
      ]
     },
     "execution_count": 13,
     "metadata": {},
     "output_type": "execute_result"
    }
   ],
   "source": [
    "list(filter(lambda x :x % 2 ==0 and x % 3 ==0,my_list))"
   ]
  },
  {
   "cell_type": "markdown",
   "id": "d4265400-b8a0-43ec-b482-67ca36beae83",
   "metadata": {},
   "source": [
    "Q6. Write a python program to find palindromes in the given list of strings using lambda and filter\n",
    "function."
   ]
  },
  {
   "cell_type": "code",
   "execution_count": 14,
   "id": "258c1b39-f630-4ffe-97aa-6c9393da7584",
   "metadata": {},
   "outputs": [],
   "source": [
    "string=['python', 'php', 'aba', 'radar', 'level']"
   ]
  },
  {
   "cell_type": "code",
   "execution_count": 15,
   "id": "f5febeeb-0b01-421b-8afe-10a4f07c0fb7",
   "metadata": {},
   "outputs": [
    {
     "data": {
      "text/plain": [
       "['php', 'aba', 'radar', 'level']"
      ]
     },
     "execution_count": 15,
     "metadata": {},
     "output_type": "execute_result"
    }
   ],
   "source": [
    "list(filter(lambda s: s==s[::-1],string))"
   ]
  }
 ],
 "metadata": {
  "kernelspec": {
   "display_name": "Python 3 (ipykernel)",
   "language": "python",
   "name": "python3"
  },
  "language_info": {
   "codemirror_mode": {
    "name": "ipython",
    "version": 3
   },
   "file_extension": ".py",
   "mimetype": "text/x-python",
   "name": "python",
   "nbconvert_exporter": "python",
   "pygments_lexer": "ipython3",
   "version": "3.10.8"
  }
 },
 "nbformat": 4,
 "nbformat_minor": 5
}
