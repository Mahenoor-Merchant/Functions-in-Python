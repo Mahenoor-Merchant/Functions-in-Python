{
 "cells": [
  {
   "cell_type": "markdown",
   "id": "336711a6-f174-41b4-99dd-c4e9d734345c",
   "metadata": {},
   "source": [
    "# Python Basics Assignment for PPT Program"
   ]
  },
  {
   "cell_type": "markdown",
   "id": "31ed1241-d5e9-423e-a7d7-752cbba52b1f",
   "metadata": {},
   "source": [
    "### 1. Write a Python program to reverse a string without using any built-in string reversal functions."
   ]
  },
  {
   "cell_type": "code",
   "execution_count": 1,
   "id": "eed72fb1-3ca5-4546-93b4-37168098da1f",
   "metadata": {},
   "outputs": [
    {
     "data": {
      "text/plain": [
       "'dlroW olleH'"
      ]
     },
     "execution_count": 1,
     "metadata": {},
     "output_type": "execute_result"
    }
   ],
   "source": [
    "s='Hello World'\n",
    "s[::-1]"
   ]
  },
  {
   "cell_type": "code",
   "execution_count": 2,
   "id": "4e36bd7f-c412-405b-844a-eda4987a3e24",
   "metadata": {},
   "outputs": [
    {
     "data": {
      "text/plain": [
       "' gnisitcarP'"
      ]
     },
     "execution_count": 2,
     "metadata": {},
     "output_type": "execute_result"
    }
   ],
   "source": [
    "def reverse_string(s):\n",
    "    reversed_str = \"\"\n",
    "    for i in range(len(s) - 1, -1, -1):\n",
    "        reversed_str += s[i]\n",
    "    return reversed_str\n",
    "s='Practising '\n",
    "reverse_string(s)"
   ]
  },
  {
   "cell_type": "markdown",
   "id": "6a442bff-3a92-438a-90e6-8e30454d122d",
   "metadata": {},
   "source": [
    "### 2. Implement a function to check if a given string is a palindrome."
   ]
  },
  {
   "cell_type": "code",
   "execution_count": 3,
   "id": "6c8485af-afc3-4ccb-8ea7-18a683d02b41",
   "metadata": {},
   "outputs": [],
   "source": [
    "def palindrome(s):\n",
    "    for i in range(len(s)):\n",
    "        for j in range(len(s)-1,-1,-1):\n",
    "            if s[i]==s[j]:\n",
    "                return 'Is Palindrome'\n",
    "            else:\n",
    "                return 'Not a Palindrome'"
   ]
  },
  {
   "cell_type": "code",
   "execution_count": 4,
   "id": "b2b95f2b-f511-46f0-869b-c1092d4ae20c",
   "metadata": {},
   "outputs": [
    {
     "data": {
      "text/plain": [
       "'Is Palindrome'"
      ]
     },
     "execution_count": 4,
     "metadata": {},
     "output_type": "execute_result"
    }
   ],
   "source": [
    "s='madam'\n",
    "palindrome(s)"
   ]
  },
  {
   "cell_type": "code",
   "execution_count": 5,
   "id": "9c64af61-44e3-4e68-acfd-78d5bb5c00b6",
   "metadata": {},
   "outputs": [
    {
     "data": {
      "text/plain": [
       "'Not a Palindrome'"
      ]
     },
     "execution_count": 5,
     "metadata": {},
     "output_type": "execute_result"
    }
   ],
   "source": [
    "s='mybook'\n",
    "palindrome(s)"
   ]
  },
  {
   "cell_type": "markdown",
   "id": "d08cad5e-c61d-487d-8070-63f74d6a4528",
   "metadata": {},
   "source": [
    "### 3. Write a program to find the largest element in a given list."
   ]
  },
  {
   "cell_type": "code",
   "execution_count": 6,
   "id": "cc1ef228-e3b0-4a09-bd32-fd1c4c03cf5b",
   "metadata": {},
   "outputs": [],
   "source": [
    "def largestElement(lst):\n",
    "    maxi=0\n",
    "    for i in lst:\n",
    "        maxi=max(maxi,i)\n",
    "    return maxi"
   ]
  },
  {
   "cell_type": "code",
   "execution_count": 7,
   "id": "16f91928-f2ad-4068-b4e8-011544588127",
   "metadata": {},
   "outputs": [
    {
     "data": {
      "text/plain": [
       "8"
      ]
     },
     "execution_count": 7,
     "metadata": {},
     "output_type": "execute_result"
    }
   ],
   "source": [
    "lst=[8,0,8,6,5]\n",
    "largestElement(lst)"
   ]
  },
  {
   "cell_type": "code",
   "execution_count": 8,
   "id": "07be7c9a-b1c5-4552-ab4d-a61135a09542",
   "metadata": {},
   "outputs": [
    {
     "data": {
      "text/plain": [
       "6"
      ]
     },
     "execution_count": 8,
     "metadata": {},
     "output_type": "execute_result"
    }
   ],
   "source": [
    "lst=[1,2,3,4,5,6]\n",
    "largestElement(lst)"
   ]
  },
  {
   "cell_type": "markdown",
   "id": "9623b273-aeed-4f66-9221-e3bd137b4eb9",
   "metadata": {},
   "source": [
    "### 4. Implement a function to count the occurrence of each element in a list."
   ]
  },
  {
   "cell_type": "code",
   "execution_count": 9,
   "id": "90c34b16-a6b4-4742-8c9b-86bff4c4158b",
   "metadata": {},
   "outputs": [],
   "source": [
    "def counter(lst):\n",
    "    counted={}\n",
    "    for element in lst:\n",
    "        if element in counted:\n",
    "            counted[element]+=1\n",
    "        else:\n",
    "            counted[element]=1       \n",
    "    return counted        "
   ]
  },
  {
   "cell_type": "code",
   "execution_count": 10,
   "id": "beb64680-188e-4677-8c2f-1f4bad05dae3",
   "metadata": {},
   "outputs": [
    {
     "data": {
      "text/plain": [
       "{1: 3, 2: 2, 3: 3}"
      ]
     },
     "execution_count": 10,
     "metadata": {},
     "output_type": "execute_result"
    }
   ],
   "source": [
    "counter([1,1,1,2,2,3,3,3])"
   ]
  },
  {
   "cell_type": "code",
   "execution_count": 11,
   "id": "e96c5bf3-e371-4b57-854a-d90942ecbcb5",
   "metadata": {},
   "outputs": [
    {
     "data": {
      "text/plain": [
       "{10: 1, 11: 3, 24: 2, 23: 2}"
      ]
     },
     "execution_count": 11,
     "metadata": {},
     "output_type": "execute_result"
    }
   ],
   "source": [
    "counter([10,11,11,24,23,23,24,11])"
   ]
  },
  {
   "cell_type": "markdown",
   "id": "512cd427-f048-4153-ae4d-1dd1a88fc401",
   "metadata": {},
   "source": [
    "### 5. Write a Python program to find the second largest number in a list."
   ]
  },
  {
   "cell_type": "code",
   "execution_count": 12,
   "id": "a886f2c3-477c-467a-a101-b57a7d9519cb",
   "metadata": {},
   "outputs": [],
   "source": [
    "def secondLargest(lst):\n",
    "    for i in lst:\n",
    "        lst.sort(reverse=True)\n",
    "    return lst[1]"
   ]
  },
  {
   "cell_type": "code",
   "execution_count": 13,
   "id": "f6f24a9e-b4db-4dcf-972a-12b1d9091080",
   "metadata": {},
   "outputs": [
    {
     "data": {
      "text/plain": [
       "7"
      ]
     },
     "execution_count": 13,
     "metadata": {},
     "output_type": "execute_result"
    }
   ],
   "source": [
    "secondLargest([1,2,3,60,7])"
   ]
  },
  {
   "cell_type": "code",
   "execution_count": 14,
   "id": "09bdd274-f166-4df9-8586-f33063431062",
   "metadata": {},
   "outputs": [],
   "source": [
    "def secondLargest(lst):\n",
    "## Finding the largest\n",
    "    maxi=0\n",
    "    for i in lst:\n",
    "        maxi=max(i,maxi)\n",
    "## Removing the largest from list and again searching for the largest in new lost\n",
    "    lst = [x for x in lst if x != maxi]\n",
    "    maxi=0\n",
    "    for x in lst:\n",
    "        maxi=max(x,maxi)\n",
    "    return maxi"
   ]
  },
  {
   "cell_type": "code",
   "execution_count": 15,
   "id": "20865192-01cf-4423-b6fb-0ae84eb7eaf8",
   "metadata": {},
   "outputs": [
    {
     "data": {
      "text/plain": [
       "7"
      ]
     },
     "execution_count": 15,
     "metadata": {},
     "output_type": "execute_result"
    }
   ],
   "source": [
    "secondLargest([1,2,3,60,7])"
   ]
  },
  {
   "cell_type": "markdown",
   "id": "bb6fa3df-af0c-4a6c-9aae-641daf934cbb",
   "metadata": {},
   "source": [
    "### 6. Implement a function to remove duplicate elements from a list."
   ]
  },
  {
   "cell_type": "code",
   "execution_count": 16,
   "id": "13206191-e09e-4ec9-bb26-30fdc150fd4d",
   "metadata": {},
   "outputs": [],
   "source": [
    "def removeDuplicate(lst):\n",
    "    unique=list(set(lst))\n",
    "    return unique"
   ]
  },
  {
   "cell_type": "code",
   "execution_count": 17,
   "id": "9706ff77-175a-40df-a009-005151081f81",
   "metadata": {},
   "outputs": [
    {
     "data": {
      "text/plain": [
       "[1, 2, 3, 4, 5, 6, 7, 8, 9]"
      ]
     },
     "execution_count": 17,
     "metadata": {},
     "output_type": "execute_result"
    }
   ],
   "source": [
    "lst=[1,1,2,3,4,4,5,6,7,8,9]\n",
    "removeDuplicate(lst)"
   ]
  },
  {
   "cell_type": "code",
   "execution_count": 18,
   "id": "5b8ffce4-a3b4-4d35-bcc9-b8ec804fc281",
   "metadata": {},
   "outputs": [],
   "source": [
    "def removeDuplicate(lst):\n",
    "    counted={}\n",
    "    for i in lst:\n",
    "        if i in counted:\n",
    "            counted[i]+=1\n",
    "        else:\n",
    "            counted[i]=1 \n",
    "        if counted[i]>1:\n",
    "            lst.remove(i)\n",
    "    return lst"
   ]
  },
  {
   "cell_type": "code",
   "execution_count": 19,
   "id": "764e5b0a-e66c-44af-8276-ce9613403890",
   "metadata": {},
   "outputs": [
    {
     "data": {
      "text/plain": [
       "[1, 2, 3, 4, 5, 6, 7, 8, 9]"
      ]
     },
     "execution_count": 19,
     "metadata": {},
     "output_type": "execute_result"
    }
   ],
   "source": [
    "lst=[1,1,2,3,4,4,5,6,7,8,9]\n",
    "removeDuplicate(lst)"
   ]
  },
  {
   "cell_type": "markdown",
   "id": "5cb1c8ab-ad5a-4518-b5ef-821af5d8e027",
   "metadata": {},
   "source": [
    "### 7. Write a program to calculate the factorial of a given number."
   ]
  },
  {
   "cell_type": "code",
   "execution_count": 20,
   "id": "a13e8d87-0d57-43c2-b828-b94963036879",
   "metadata": {},
   "outputs": [],
   "source": [
    "def factorial(n):\n",
    "    if n==0 or n==1:\n",
    "        return 1\n",
    "    else :\n",
    "        return n*factorial(n-1)"
   ]
  },
  {
   "cell_type": "code",
   "execution_count": 21,
   "id": "03ba6067-67a2-4ff7-87b3-4917d5e33828",
   "metadata": {},
   "outputs": [
    {
     "data": {
      "text/plain": [
       "120"
      ]
     },
     "execution_count": 21,
     "metadata": {},
     "output_type": "execute_result"
    }
   ],
   "source": [
    "factorial(5)"
   ]
  },
  {
   "cell_type": "code",
   "execution_count": 22,
   "id": "474fda8b-1f28-4ad7-8f5e-0019efd68a89",
   "metadata": {},
   "outputs": [
    {
     "data": {
      "text/plain": [
       "6"
      ]
     },
     "execution_count": 22,
     "metadata": {},
     "output_type": "execute_result"
    }
   ],
   "source": [
    "factorial(3)"
   ]
  },
  {
   "cell_type": "markdown",
   "id": "72dcd33b-2b47-4883-90ee-10b3eabc8fbe",
   "metadata": {},
   "source": [
    "### 8. Implement a function to check if a given number is prime."
   ]
  },
  {
   "cell_type": "code",
   "execution_count": 23,
   "id": "0dc30790-b5a0-40b2-af62-ef0fa2d5899d",
   "metadata": {},
   "outputs": [],
   "source": [
    "def is_prime(number):\n",
    "    if number < 2:\n",
    "        return False\n",
    "    for i in range(2,int(number*0.5) +1):\n",
    "        if number % i == 0:\n",
    "            return False\n",
    "    return True"
   ]
  },
  {
   "cell_type": "code",
   "execution_count": 24,
   "id": "f091d113-28b9-4a37-ab57-1f144c6cb8fd",
   "metadata": {},
   "outputs": [
    {
     "data": {
      "text/plain": [
       "True"
      ]
     },
     "execution_count": 24,
     "metadata": {},
     "output_type": "execute_result"
    }
   ],
   "source": [
    "is_prime(5)"
   ]
  },
  {
   "cell_type": "code",
   "execution_count": 25,
   "id": "0e404b85-efc6-4f6b-81a6-e843129515d2",
   "metadata": {},
   "outputs": [
    {
     "data": {
      "text/plain": [
       "False"
      ]
     },
     "execution_count": 25,
     "metadata": {},
     "output_type": "execute_result"
    }
   ],
   "source": [
    "is_prime(10)"
   ]
  },
  {
   "cell_type": "markdown",
   "id": "deecde08-231b-4343-a4ed-a90ebc2a7013",
   "metadata": {},
   "source": [
    "### 9. Write a Python program to sort a list of integers in ascending order."
   ]
  },
  {
   "cell_type": "code",
   "execution_count": 26,
   "id": "8a926791-ebac-4111-bd9e-c587954ac445",
   "metadata": {},
   "outputs": [],
   "source": [
    "def quick_sort(lst):\n",
    "    if len(lst)<=1:\n",
    "        return lst\n",
    "    \n",
    "    pivot=lst[len(lst)//2]\n",
    "    left=[x for x in lst if x < pivot]\n",
    "    middle=[x for x in lst if x == pivot]\n",
    "    right=[x for x in lst if x > pivot]\n",
    "    \n",
    "    return quick_sort(left)+middle+quick_sort(right)"
   ]
  },
  {
   "cell_type": "code",
   "execution_count": 27,
   "id": "cd87db65-2fb9-4b82-943d-5a949eb5181b",
   "metadata": {},
   "outputs": [
    {
     "data": {
      "text/plain": [
       "[1, 3, 4, 5, 6, 7, 7, 8, 9, 10, 11, 12]"
      ]
     },
     "execution_count": 27,
     "metadata": {},
     "output_type": "execute_result"
    }
   ],
   "source": [
    "quick_sort([7,6,5,4,3,7,8,9,11,1,12,10])"
   ]
  },
  {
   "cell_type": "markdown",
   "id": "781710a0-c696-4def-8797-007453f805db",
   "metadata": {},
   "source": [
    "### 10. Implement a function to find the sum of all numbers in a list."
   ]
  },
  {
   "cell_type": "code",
   "execution_count": 28,
   "id": "2f084e22-9ecb-4bf2-b889-d98b35d16d12",
   "metadata": {},
   "outputs": [],
   "source": [
    "def summed(lst):\n",
    "    if len(lst) <=1:\n",
    "        return lst\n",
    "    \n",
    "    summed=0\n",
    "    for i in lst:\n",
    "        summed+=i\n",
    "        \n",
    "    return summed"
   ]
  },
  {
   "cell_type": "code",
   "execution_count": 29,
   "id": "c926e1d6-de01-4d15-acb5-447895899222",
   "metadata": {},
   "outputs": [
    {
     "data": {
      "text/plain": [
       "28"
      ]
     },
     "execution_count": 29,
     "metadata": {},
     "output_type": "execute_result"
    }
   ],
   "source": [
    "summed([1,2,3,4,5,6,7])"
   ]
  },
  {
   "cell_type": "markdown",
   "id": "10e00149-a01c-43ee-98b8-b14bb420509e",
   "metadata": {},
   "source": [
    "### 11. Write a program to find the common elements between two lists."
   ]
  },
  {
   "cell_type": "code",
   "execution_count": 30,
   "id": "dd1fa712-4039-40c3-b58b-642f56cfb84c",
   "metadata": {},
   "outputs": [],
   "source": [
    "def common(lst1,lst2):\n",
    "    result=[]\n",
    "    for i in lst1:\n",
    "        if i in lst2:\n",
    "            result.append(i)\n",
    "    return result"
   ]
  },
  {
   "cell_type": "code",
   "execution_count": 31,
   "id": "aca1720d-8ff0-4c24-a07d-a23497483cb2",
   "metadata": {},
   "outputs": [
    {
     "data": {
      "text/plain": [
       "[1, 3, 5, 7]"
      ]
     },
     "execution_count": 31,
     "metadata": {},
     "output_type": "execute_result"
    }
   ],
   "source": [
    "lst1=[1,2,3,4,5,6,7,8]\n",
    "lst2=[1,3,5,7,9,11,12,23]\n",
    "common(lst1,lst2)"
   ]
  },
  {
   "cell_type": "markdown",
   "id": "4764edf4-f892-4a81-a4fd-45e618838b2b",
   "metadata": {},
   "source": [
    "### 12. Implement a function to check if a given string is an anagram of another string."
   ]
  },
  {
   "cell_type": "code",
   "execution_count": 32,
   "id": "cdee462a-510d-4950-8872-11c6ae3b6de3",
   "metadata": {},
   "outputs": [],
   "source": [
    "def is_anagram(s1,s2):\n",
    "    \n",
    "    s1.lower().replace('  ','')\n",
    "    s2.lower().replace('  ','')\n",
    "    s1.strip()\n",
    "    s2.strip()\n",
    "    \n",
    "    if len(s1)!=len(s2):\n",
    "        return False\n",
    "    \n",
    "    for i in s1:\n",
    "        if i in s2:\n",
    "            for j in s2:\n",
    "                if j in s1:\n",
    "                    return True\n",
    "    return False"
   ]
  },
  {
   "cell_type": "code",
   "execution_count": 33,
   "id": "a4c04fdb-1266-47b2-93b2-24324a26e174",
   "metadata": {},
   "outputs": [
    {
     "data": {
      "text/plain": [
       "True"
      ]
     },
     "execution_count": 33,
     "metadata": {},
     "output_type": "execute_result"
    }
   ],
   "source": [
    "s1='listen'\n",
    "s2='silent'\n",
    "is_anagram(s1,s2)"
   ]
  },
  {
   "cell_type": "code",
   "execution_count": 34,
   "id": "34901446-c0ae-48fe-8c7a-4b0256624b2e",
   "metadata": {},
   "outputs": [
    {
     "data": {
      "text/plain": [
       "True"
      ]
     },
     "execution_count": 34,
     "metadata": {},
     "output_type": "execute_result"
    }
   ],
   "source": [
    "s1='good'\n",
    "s2='book'\n",
    "is_anagram(s1,s2)"
   ]
  },
  {
   "cell_type": "markdown",
   "id": "b56bea8c-cf8e-429d-bb1c-18593f57005a",
   "metadata": {},
   "source": [
    "### 13. Write a Python program to generate all permutations of a given string."
   ]
  },
  {
   "cell_type": "code",
   "execution_count": 69,
   "id": "ed96575a-0016-4b4e-b993-a73c3118967d",
   "metadata": {},
   "outputs": [
    {
     "name": "stdin",
     "output_type": "stream",
     "text": [
      "Enter a string:  Sky\n"
     ]
    },
    {
     "name": "stdout",
     "output_type": "stream",
     "text": [
      "Sky\n",
      "Syk\n",
      "kSy\n",
      "kyS\n",
      "ySk\n",
      "ykS\n"
     ]
    }
   ],
   "source": [
    "from itertools import permutations\n",
    "\n",
    "def generate_permutations(string):\n",
    "    perms = permutations(string)\n",
    "    for perm in perms:\n",
    "        print(''.join(perm))\n",
    "\n",
    "# Test the function\n",
    "string = input(\"Enter a string: \")\n",
    "result=generate_permutations(string)"
   ]
  },
  {
   "cell_type": "markdown",
   "id": "d5724c12-b9f6-4dfc-859a-6b069f9ef865",
   "metadata": {},
   "source": [
    "### 14. Implement a function to calculate the Fibonacci sequence up to a given number of terms."
   ]
  },
  {
   "cell_type": "code",
   "execution_count": 36,
   "id": "e4bc284b-9766-4d68-a95c-1b5ccaf6fcaa",
   "metadata": {},
   "outputs": [],
   "source": [
    "def fibonacci(n):\n",
    "    fib = []\n",
    "    for i in range(n):\n",
    "        if i == 0:\n",
    "            fib.append(0)\n",
    "        elif i == 1:\n",
    "            fib.append(1)\n",
    "        else:\n",
    "            fib.append(fib[i-1] + fib[i-2])\n",
    "    return fib\n"
   ]
  },
  {
   "cell_type": "code",
   "execution_count": 37,
   "id": "85fad06e-71ec-47e2-b1b6-cd5e5d258d89",
   "metadata": {},
   "outputs": [
    {
     "data": {
      "text/plain": [
       "[0, 1, 1, 2, 3, 5, 8, 13, 21, 34, 55]"
      ]
     },
     "execution_count": 37,
     "metadata": {},
     "output_type": "execute_result"
    }
   ],
   "source": [
    "fibonacci(11)"
   ]
  },
  {
   "cell_type": "code",
   "execution_count": 38,
   "id": "03c29e85-65fe-4acb-8785-1ef7c2a227ba",
   "metadata": {},
   "outputs": [
    {
     "data": {
      "text/plain": [
       "[0, 1, 1, 2, 3]"
      ]
     },
     "execution_count": 38,
     "metadata": {},
     "output_type": "execute_result"
    }
   ],
   "source": [
    "fibonacci(5)"
   ]
  },
  {
   "cell_type": "markdown",
   "id": "ce847f83-17c5-431a-84a7-12b6d380cf6a",
   "metadata": {},
   "source": [
    "### 15. Write a program to find the median of a list of numbers."
   ]
  },
  {
   "cell_type": "code",
   "execution_count": 39,
   "id": "d9a30577-033d-4d63-b9e0-f776d108840c",
   "metadata": {},
   "outputs": [],
   "source": [
    "def findMedian(lst):\n",
    "    sorted_lst = sorted(lst)\n",
    "    length = len(sorted_lst)\n",
    "    if length % 2 != 0:\n",
    "        median = sorted_lst[length // 2]\n",
    "    else:\n",
    "        median = (sorted_lst[length // 2 - 1] + sorted_lst[length // 2]) / 2\n",
    "    return median\n"
   ]
  },
  {
   "cell_type": "code",
   "execution_count": 40,
   "id": "98cf0569-1185-4d4f-8d65-26f343abe3d5",
   "metadata": {},
   "outputs": [
    {
     "data": {
      "text/plain": [
       "3"
      ]
     },
     "execution_count": 40,
     "metadata": {},
     "output_type": "execute_result"
    }
   ],
   "source": [
    "findMedian([1,2,3,4,6])"
   ]
  },
  {
   "cell_type": "code",
   "execution_count": 41,
   "id": "8905cad2-23a1-4efc-8412-4233f8dd768d",
   "metadata": {},
   "outputs": [
    {
     "data": {
      "text/plain": [
       "2.5"
      ]
     },
     "execution_count": 41,
     "metadata": {},
     "output_type": "execute_result"
    }
   ],
   "source": [
    "findMedian([1,2,3,4])"
   ]
  },
  {
   "cell_type": "markdown",
   "id": "ac97c0f4-4572-485e-9c4c-6282a3af815a",
   "metadata": {},
   "source": [
    "### 16. Implement a function to check if a given list is sorted in non-decreasing order."
   ]
  },
  {
   "cell_type": "code",
   "execution_count": 42,
   "id": "e5f7d64f-927f-4a9d-a357-1f082a6890ab",
   "metadata": {},
   "outputs": [],
   "source": [
    "def ascendingOrder(lst):\n",
    "    for i in range(len(lst)):\n",
    "        if lst[i] > lst[i+1]:\n",
    "            return 'The given list is not sorted in non-decreasing order.'\n",
    "        else:\n",
    "            return 'The given list is sorted in non-decreasing order.'"
   ]
  },
  {
   "cell_type": "code",
   "execution_count": 43,
   "id": "832e865d-2fcf-4897-aeba-1b1339cd05c4",
   "metadata": {},
   "outputs": [
    {
     "data": {
      "text/plain": [
       "'The given list is sorted in non-decreasing order.'"
      ]
     },
     "execution_count": 43,
     "metadata": {},
     "output_type": "execute_result"
    }
   ],
   "source": [
    "ascendingOrder([2,3,4,5,6,7])"
   ]
  },
  {
   "cell_type": "code",
   "execution_count": 44,
   "id": "ed6620ad-f88c-4d69-9c23-df2a3366eb01",
   "metadata": {},
   "outputs": [
    {
     "data": {
      "text/plain": [
       "'The given list is sorted in non-decreasing order.'"
      ]
     },
     "execution_count": 44,
     "metadata": {},
     "output_type": "execute_result"
    }
   ],
   "source": [
    "ascendingOrder([1,3,5,5,6,7])"
   ]
  },
  {
   "cell_type": "code",
   "execution_count": 45,
   "id": "ea943a2b-3666-4fa8-9d42-f88e44ac99a9",
   "metadata": {},
   "outputs": [
    {
     "data": {
      "text/plain": [
       "'The given list is not sorted in non-decreasing order.'"
      ]
     },
     "execution_count": 45,
     "metadata": {},
     "output_type": "execute_result"
    }
   ],
   "source": [
    "ascendingOrder([7,3,6,9])"
   ]
  },
  {
   "cell_type": "markdown",
   "id": "2812bc50-a0b6-4514-826e-b6f1d6ad1fcf",
   "metadata": {},
   "source": [
    "### 17. Write a Python program to find the intersection of two lists.\n"
   ]
  },
  {
   "cell_type": "code",
   "execution_count": 46,
   "id": "6f3a80b2-2abe-419f-b301-e70ff2b56539",
   "metadata": {},
   "outputs": [],
   "source": [
    "def intersection(lst1,lst2):\n",
    "    intersect=[]\n",
    "    for i in lst1:\n",
    "        if i in lst2:\n",
    "            intersect.append(i)\n",
    "    return intersect"
   ]
  },
  {
   "cell_type": "code",
   "execution_count": 47,
   "id": "e3f6e55c-4c79-4cf8-87d8-386fed02a155",
   "metadata": {},
   "outputs": [
    {
     "data": {
      "text/plain": [
       "[4, 5, 6]"
      ]
     },
     "execution_count": 47,
     "metadata": {},
     "output_type": "execute_result"
    }
   ],
   "source": [
    "lst1=[1,3,3,4,5,6]\n",
    "lst2=[4,5,6,7,8,9]\n",
    "intersection(lst1,lst2)"
   ]
  },
  {
   "cell_type": "markdown",
   "id": "2f0c3566-d988-4b4b-aca7-748155a0e539",
   "metadata": {},
   "source": [
    "### 18. Implement a function to find the maximum subarray sum in a given list."
   ]
  },
  {
   "cell_type": "code",
   "execution_count": 48,
   "id": "12969e8f-deb7-4a80-975e-88471eb8e82a",
   "metadata": {},
   "outputs": [],
   "source": [
    "class Solution:\n",
    "    \n",
    "    def maxSum(self, arr):\n",
    "        \n",
    "        if len(arr)==0:\n",
    "            return 0\n",
    "        \n",
    "        max_sum,min_sum=arr[0],arr[0]\n",
    "        \n",
    "        result=max_sum\n",
    "        \n",
    "        for i in range(1,len(arr)):\n",
    "            curr=arr[i]\n",
    "            \n",
    "            temp_max=max(curr, max_sum+curr, min_sum+curr)\n",
    "            min_sum=min(curr, max_sum+curr, min_sum+curr)\n",
    "            \n",
    "            max_sum=temp_max\n",
    "            \n",
    "            result= max(max_sum,result)\n",
    "            \n",
    "        return result"
   ]
  },
  {
   "cell_type": "code",
   "execution_count": 49,
   "id": "d5e385e0-bc1b-437e-b69e-f5ca910a9d26",
   "metadata": {},
   "outputs": [
    {
     "data": {
      "text/plain": [
       "10"
      ]
     },
     "execution_count": 49,
     "metadata": {},
     "output_type": "execute_result"
    }
   ],
   "source": [
    "Solution().maxSum([1,2,3,4,-1,-2,3])"
   ]
  },
  {
   "cell_type": "code",
   "execution_count": 50,
   "id": "781a42f1-503f-40fc-88fe-3f1e826f3184",
   "metadata": {},
   "outputs": [
    {
     "data": {
      "text/plain": [
       "8"
      ]
     },
     "execution_count": 50,
     "metadata": {},
     "output_type": "execute_result"
    }
   ],
   "source": [
    "Solution().maxSum([1, -2, 3, 4, -5, 6])"
   ]
  },
  {
   "cell_type": "markdown",
   "id": "7ad23354-3c1b-499f-b973-b546d3452bc4",
   "metadata": {},
   "source": [
    "### 19. Write a program to remove all vowels from a given string."
   ]
  },
  {
   "cell_type": "code",
   "execution_count": 51,
   "id": "6fba67ad-f93e-4468-aed3-8de0ab6cb77c",
   "metadata": {},
   "outputs": [],
   "source": [
    "def RemoveVowels(s):\n",
    "    result=''\n",
    "    vowels=['a','e','i','o','u','A','E','I','O','U']\n",
    "    for i in s:\n",
    "        if i in vowels:\n",
    "            continue\n",
    "        else:\n",
    "            result+=i\n",
    "    return result"
   ]
  },
  {
   "cell_type": "code",
   "execution_count": 52,
   "id": "d41fde55-fa6c-4429-b067-63dcae82f56d",
   "metadata": {},
   "outputs": [
    {
     "data": {
      "text/plain": [
       "'Bll'"
      ]
     },
     "execution_count": 52,
     "metadata": {},
     "output_type": "execute_result"
    }
   ],
   "source": [
    "RemoveVowels('Ball')"
   ]
  },
  {
   "cell_type": "code",
   "execution_count": 53,
   "id": "af5175b0-6f20-4428-906a-7410ad4f3791",
   "metadata": {},
   "outputs": [
    {
     "data": {
      "text/plain": [
       "'ll Vwls shld b rmvd'"
      ]
     },
     "execution_count": 53,
     "metadata": {},
     "output_type": "execute_result"
    }
   ],
   "source": [
    "RemoveVowels('All Vowels should be removed')"
   ]
  },
  {
   "cell_type": "markdown",
   "id": "1c376d1c-5b63-4187-b048-bf29f6453f82",
   "metadata": {},
   "source": [
    "### 20. Implement a function to reverse the order of words in a given sentence."
   ]
  },
  {
   "cell_type": "code",
   "execution_count": 54,
   "id": "ae41d08f-0af6-4255-96e6-d33e38a6b16d",
   "metadata": {},
   "outputs": [],
   "source": [
    "def reversal(s):\n",
    "    result=''\n",
    "    for i in range(len(s)-1,-1,-1):\n",
    "        result+=s[i]\n",
    "    return result"
   ]
  },
  {
   "cell_type": "code",
   "execution_count": 55,
   "id": "5343a159-3f5b-4063-a4d4-ea10665a5be4",
   "metadata": {},
   "outputs": [
    {
     "data": {
      "text/plain": [
       "'drloW olleH'"
      ]
     },
     "execution_count": 55,
     "metadata": {},
     "output_type": "execute_result"
    }
   ],
   "source": [
    "reversal('Hello Wolrd')"
   ]
  },
  {
   "cell_type": "markdown",
   "id": "3491db80-eec3-4db8-841b-4cf1c9768a1b",
   "metadata": {},
   "source": [
    "### 21. Write a Python program to check if two strings are anagrams of each other."
   ]
  },
  {
   "cell_type": "code",
   "execution_count": 56,
   "id": "38bf12ef-5a65-44bb-a969-a9fe183078e1",
   "metadata": {},
   "outputs": [],
   "source": [
    "def isAnagram(s1,s2):\n",
    "    if len(s1)!=len(s2):\n",
    "        return 'The given strings are not anagrams.'\n",
    "    for i in s1:\n",
    "        if i in s2:\n",
    "            return 'The given strings are anagrams of each other'"
   ]
  },
  {
   "cell_type": "code",
   "execution_count": 57,
   "id": "afdf5534-26a6-42ec-b926-e3b8a0b75f9c",
   "metadata": {},
   "outputs": [
    {
     "data": {
      "text/plain": [
       "'The given strings are anagrams of each other'"
      ]
     },
     "execution_count": 57,
     "metadata": {},
     "output_type": "execute_result"
    }
   ],
   "source": [
    "isAnagram('silent','listen')"
   ]
  },
  {
   "cell_type": "code",
   "execution_count": 58,
   "id": "b3f76164-f82e-4a75-8da0-498ce09d3732",
   "metadata": {},
   "outputs": [
    {
     "data": {
      "text/plain": [
       "'The given strings are anagrams of each other'"
      ]
     },
     "execution_count": 58,
     "metadata": {},
     "output_type": "execute_result"
    }
   ],
   "source": [
    "isAnagram('bad credit','debit card')"
   ]
  },
  {
   "cell_type": "markdown",
   "id": "5edfb48e-bb70-402e-a686-2c18855dbce2",
   "metadata": {},
   "source": [
    "### 22. Implement a function to find the first non-repeating character in a string."
   ]
  },
  {
   "cell_type": "code",
   "execution_count": 59,
   "id": "468a4503-4f7b-4f7d-978a-c2d66836f063",
   "metadata": {},
   "outputs": [],
   "source": [
    "def FirstNonRepeating(s):\n",
    "    count={}\n",
    "    for i in s:\n",
    "        if i not in count:\n",
    "            count[i]=1\n",
    "        else:\n",
    "            count[i]+=1\n",
    "    for i in s:\n",
    "        if count[i]==1:\n",
    "            return f'The first non repeating charcter is {i}.'"
   ]
  },
  {
   "cell_type": "code",
   "execution_count": 60,
   "id": "23dbfe15-d558-4346-b60a-fa56b22cdb64",
   "metadata": {},
   "outputs": [
    {
     "data": {
      "text/plain": [
       "'The first non repeating charcter is d.'"
      ]
     },
     "execution_count": 60,
     "metadata": {},
     "output_type": "execute_result"
    }
   ],
   "source": [
    "FirstNonRepeating('repeatedly repeating balance')"
   ]
  },
  {
   "cell_type": "markdown",
   "id": "582e98b9-1520-40b7-9070-0ad984322693",
   "metadata": {},
   "source": [
    "### 23. Write a program to find the prime factors of a given number."
   ]
  },
  {
   "cell_type": "code",
   "execution_count": 61,
   "id": "55aa483d-32bf-4a43-9142-3e491b010b12",
   "metadata": {},
   "outputs": [],
   "source": [
    "def prime_factors(n):\n",
    "    factors = []\n",
    "    i = 2\n",
    "    while i <= n:\n",
    "        if n % i == 0:\n",
    "            factors.append(i)\n",
    "            n = n // i\n",
    "        else:\n",
    "            i += 1\n",
    "    return factors"
   ]
  },
  {
   "cell_type": "code",
   "execution_count": 62,
   "id": "39b43cb9-cc93-4699-8368-4432fd396b14",
   "metadata": {},
   "outputs": [
    {
     "data": {
      "text/plain": [
       "[2, 2, 2, 3]"
      ]
     },
     "execution_count": 62,
     "metadata": {},
     "output_type": "execute_result"
    }
   ],
   "source": [
    "prime_factors(24)"
   ]
  },
  {
   "cell_type": "markdown",
   "id": "8c5c9d26-dc42-4c26-ac91-b1fb5eaca3f3",
   "metadata": {},
   "source": [
    "### 24. Implement a function to check if a given number is a power of two."
   ]
  },
  {
   "cell_type": "code",
   "execution_count": 63,
   "id": "2d526819-b0d3-4021-81f0-040f22b96fa6",
   "metadata": {},
   "outputs": [],
   "source": [
    "def is_power_of_two(n):\n",
    "    if n <= 0:\n",
    "        return False\n",
    "    while n % 2 == 0:\n",
    "        n //= 2\n",
    "    return n == 1"
   ]
  },
  {
   "cell_type": "code",
   "execution_count": 64,
   "id": "991045b7-f453-4a1a-93b1-a397330d21d2",
   "metadata": {},
   "outputs": [
    {
     "data": {
      "text/plain": [
       "False"
      ]
     },
     "execution_count": 64,
     "metadata": {},
     "output_type": "execute_result"
    }
   ],
   "source": [
    "is_power_of_two(10)"
   ]
  },
  {
   "cell_type": "code",
   "execution_count": 65,
   "id": "88267b80-88f6-4699-bab7-b39227732f07",
   "metadata": {},
   "outputs": [
    {
     "data": {
      "text/plain": [
       "True"
      ]
     },
     "execution_count": 65,
     "metadata": {},
     "output_type": "execute_result"
    }
   ],
   "source": [
    "is_power_of_two(1024)"
   ]
  },
  {
   "cell_type": "markdown",
   "id": "d52b6925-9e93-4f73-af45-95623d1f8218",
   "metadata": {},
   "source": [
    "### 25. Write a Python program to merge two sorted lists into a single sorted list"
   ]
  },
  {
   "cell_type": "code",
   "execution_count": 88,
   "id": "22419ba3-21d2-4aa8-8575-0c937475a9f3",
   "metadata": {},
   "outputs": [],
   "source": [
    "def mergeSorted(arr1, arr2):\n",
    "    if len(arr1) == 0:\n",
    "        return arr2\n",
    "    if len(arr2) == 0:\n",
    "        return arr1\n",
    "    \n",
    "    merged = []\n",
    "    i = j = 0\n",
    "    \n",
    "    while i < len(arr1) and j < len(arr2):\n",
    "        if arr1[i] <= arr2[j]:\n",
    "            merged.append(arr1[i])\n",
    "            i += 1\n",
    "        else:\n",
    "            merged.append(arr2[j])\n",
    "            j += 1\n",
    "    \n",
    "    while i < len(arr1):\n",
    "        merged.append(arr1[i])\n",
    "        i += 1\n",
    "    \n",
    "    while j < len(arr2):\n",
    "        merged.append(arr2[j])\n",
    "        j += 1\n",
    "    \n",
    "    return merged\n"
   ]
  },
  {
   "cell_type": "code",
   "execution_count": 89,
   "id": "41640b83-bb26-435b-afed-459849353299",
   "metadata": {},
   "outputs": [
    {
     "data": {
      "text/plain": [
       "[0, 1, 1, 2, 3, 4, 4, 5, 5, 6, 7, 8]"
      ]
     },
     "execution_count": 89,
     "metadata": {},
     "output_type": "execute_result"
    }
   ],
   "source": [
    "arr1=[1,2,3,4,5,6]\n",
    "arr2=[0,1,4,5,7,8]\n",
    "mergeSorted(arr1,arr2)"
   ]
  },
  {
   "cell_type": "markdown",
   "id": "7307f168-ffd6-4b26-bb91-11173dbef571",
   "metadata": {},
   "source": [
    "### 26. Implement a function to find the mode of a list of numbers"
   ]
  },
  {
   "cell_type": "code",
   "execution_count": 144,
   "id": "20c7ce09-8013-41b9-b2d7-ed3511becee3",
   "metadata": {},
   "outputs": [],
   "source": [
    "def Mode(nums):\n",
    "    \n",
    "    count={}\n",
    "    \n",
    "    for num in nums:\n",
    "        if num not in count:\n",
    "            count[num]=1\n",
    "        else:\n",
    "            count[num]+=1\n",
    "            \n",
    "    max_freq = max(count.values())\n",
    "    \n",
    "    mode = [num for num, freq in count.items() if freq == max_freq]\n",
    "    \n",
    "    return f'The Mode for this list is {mode}'"
   ]
  },
  {
   "cell_type": "code",
   "execution_count": 145,
   "id": "4f50bf4d-d105-4744-bc59-1f6e10cfce1d",
   "metadata": {},
   "outputs": [
    {
     "data": {
      "text/plain": [
       "'The Mode for this list is [4]'"
      ]
     },
     "execution_count": 145,
     "metadata": {},
     "output_type": "execute_result"
    }
   ],
   "source": [
    "Mode([1,2,2,3,3,4,4,4])"
   ]
  },
  {
   "cell_type": "code",
   "execution_count": 146,
   "id": "66733908-f5b1-44a7-b6fb-032dfab6cc1a",
   "metadata": {},
   "outputs": [
    {
     "data": {
      "text/plain": [
       "'The Mode for this list is [33]'"
      ]
     },
     "execution_count": 146,
     "metadata": {},
     "output_type": "execute_result"
    }
   ],
   "source": [
    "Mode([33,44,55,33,44,77,66,55,11,33])"
   ]
  },
  {
   "cell_type": "markdown",
   "id": "71784303-1906-4278-9566-f59725df4119",
   "metadata": {},
   "source": [
    "### 27. Write a program to find the greatest common divisor (GCD) of two numbers"
   ]
  },
  {
   "cell_type": "code",
   "execution_count": 163,
   "id": "0a0e9269-dad1-4a89-a472-d7a080724c0d",
   "metadata": {},
   "outputs": [],
   "source": [
    "def GCD(num1,num2):\n",
    "    \n",
    "    D1,D2=[],[]\n",
    "    for i in range(1,num1):\n",
    "        if (num1 % i ==0):\n",
    "            D1.append(i)\n",
    "            \n",
    "    for j in range(1,num2):\n",
    "        if num2 % j ==0:\n",
    "            D2.append(j) \n",
    "            \n",
    "    CommonDivisors=[]\n",
    "    for n in D1:\n",
    "        if n in D2:\n",
    "            CommonDivisors.append(n)\n",
    "    return max(CommonDivisors)"
   ]
  },
  {
   "cell_type": "code",
   "execution_count": 164,
   "id": "b1b6229f-2174-4f0b-89e1-46a866b063eb",
   "metadata": {},
   "outputs": [
    {
     "data": {
      "text/plain": [
       "4"
      ]
     },
     "execution_count": 164,
     "metadata": {},
     "output_type": "execute_result"
    }
   ],
   "source": [
    "GCD(8,12)"
   ]
  },
  {
   "cell_type": "code",
   "execution_count": 165,
   "id": "b837a7bc-fe9e-42a0-baf2-b27efecc4840",
   "metadata": {},
   "outputs": [
    {
     "data": {
      "text/plain": [
       "18"
      ]
     },
     "execution_count": 165,
     "metadata": {},
     "output_type": "execute_result"
    }
   ],
   "source": [
    "GCD(36,72)"
   ]
  },
  {
   "cell_type": "markdown",
   "id": "f99fe75d-e53d-48ce-b7a3-d048311f51a1",
   "metadata": {},
   "source": [
    "### 28. Implement a function to calculate the square root of a given number."
   ]
  },
  {
   "cell_type": "code",
   "execution_count": 167,
   "id": "8ee23a42-7195-41f9-bad2-b203c2e46560",
   "metadata": {},
   "outputs": [],
   "source": [
    "def sqrt(number):\n",
    "    if number < 0:\n",
    "        raise ValueError(\"Square root is not defined for negative numbers.\")\n",
    "    \n",
    "    guess = number\n",
    "    previous_guess = 0\n",
    "    \n",
    "    while abs(guess - previous_guess) > 0.0001:\n",
    "        previous_guess = guess\n",
    "        guess = (guess + number / guess) / 2\n",
    "    \n",
    "    return guess"
   ]
  },
  {
   "cell_type": "code",
   "execution_count": 168,
   "id": "b78ef779-1b61-42e0-ba9e-e1d16d1e6fa8",
   "metadata": {},
   "outputs": [
    {
     "data": {
      "text/plain": [
       "1.4142135623746899"
      ]
     },
     "execution_count": 168,
     "metadata": {},
     "output_type": "execute_result"
    }
   ],
   "source": [
    "sqrt(2)"
   ]
  },
  {
   "cell_type": "code",
   "execution_count": 169,
   "id": "1cd4c75b-53df-483d-8b3f-173e44cea6f0",
   "metadata": {},
   "outputs": [
    {
     "data": {
      "text/plain": [
       "1.7320508100147274"
      ]
     },
     "execution_count": 169,
     "metadata": {},
     "output_type": "execute_result"
    }
   ],
   "source": [
    "sqrt(3)"
   ]
  },
  {
   "cell_type": "markdown",
   "id": "b0f3c7c9-fec7-4de5-a5c3-88f1d1aa3008",
   "metadata": {},
   "source": [
    "### 29. Write a Python program to check if a given string is a valid palindrome ignoring non-alphanumeric characters."
   ]
  },
  {
   "cell_type": "code",
   "execution_count": 180,
   "id": "2f24874a-c2e6-4d61-8c5c-22024380c910",
   "metadata": {},
   "outputs": [],
   "source": [
    "def isPalindrome(s):\n",
    "    \n",
    "    for i in range(len(s)):\n",
    "        if s[i].isalnum()==False:\n",
    "            continue\n",
    "        else:\n",
    "            for j in range (len(s)-1,-1,-1):\n",
    "                if s[i]==s[j]:\n",
    "                    return 'The given string is a Palindrome.'\n",
    "                else:\n",
    "                    return 'The given string is not a Palindrome.'\n",
    "            "
   ]
  },
  {
   "cell_type": "code",
   "execution_count": 181,
   "id": "e7cb0498-ff7d-4ddb-907d-42209620d948",
   "metadata": {},
   "outputs": [
    {
     "data": {
      "text/plain": [
       "'The given string is a Palindrome.'"
      ]
     },
     "execution_count": 181,
     "metadata": {},
     "output_type": "execute_result"
    }
   ],
   "source": [
    "s='madam'\n",
    "isPalindrome(s)"
   ]
  },
  {
   "cell_type": "code",
   "execution_count": 182,
   "id": "032cba23-1840-4d41-bc84-eb21c720f5f3",
   "metadata": {},
   "outputs": [
    {
     "data": {
      "text/plain": [
       "'The given string is a Palindrome.'"
      ]
     },
     "execution_count": 182,
     "metadata": {},
     "output_type": "execute_result"
    }
   ],
   "source": [
    "s='level'\n",
    "isPalindrome(s)"
   ]
  },
  {
   "cell_type": "code",
   "execution_count": 183,
   "id": "4afa6315-9c8d-4f7c-b1e7-5e860ae5ebb1",
   "metadata": {},
   "outputs": [
    {
     "data": {
      "text/plain": [
       "'The given string is not a Palindrome.'"
      ]
     },
     "execution_count": 183,
     "metadata": {},
     "output_type": "execute_result"
    }
   ],
   "source": [
    "s='hello'\n",
    "isPalindrome(s)"
   ]
  },
  {
   "cell_type": "markdown",
   "id": "f25bd80e-bab8-4db9-b9e1-daf5be9a4dce",
   "metadata": {},
   "source": [
    "### 30. Implement a function to find the minimum element in a rotated sorted list."
   ]
  },
  {
   "cell_type": "code",
   "execution_count": 184,
   "id": "5ddbf983-584e-4b4d-a17f-faf8a4a16f55",
   "metadata": {},
   "outputs": [],
   "source": [
    "def find_minimum(nums):\n",
    "    left = 0\n",
    "    right = len(nums) - 1\n",
    "\n",
    "    while left < right:\n",
    "        mid = left + (right - left) // 2\n",
    "\n",
    "        if nums[mid] > nums[right]:\n",
    "            left = mid + 1\n",
    "        else:\n",
    "            right = mid\n",
    "\n",
    "    return nums[left]"
   ]
  },
  {
   "cell_type": "code",
   "execution_count": 185,
   "id": "5e1cd50a-4845-42ca-b54f-ceb7040eb840",
   "metadata": {},
   "outputs": [
    {
     "data": {
      "text/plain": [
       "1"
      ]
     },
     "execution_count": 185,
     "metadata": {},
     "output_type": "execute_result"
    }
   ],
   "source": [
    "find_minimum([3,4,5,6,2,1])"
   ]
  },
  {
   "cell_type": "code",
   "execution_count": 186,
   "id": "decf30a6-f816-4f39-8af2-8eb29c7f0be1",
   "metadata": {},
   "outputs": [
    {
     "data": {
      "text/plain": [
       "24"
      ]
     },
     "execution_count": 186,
     "metadata": {},
     "output_type": "execute_result"
    }
   ],
   "source": [
    "find_minimum([34,44,45,46,24,31])"
   ]
  },
  {
   "cell_type": "markdown",
   "id": "d5afdcd2-85ec-4413-9138-d5dac9c8e85b",
   "metadata": {},
   "source": [
    "### 31. Write a program to find the sum of all even numbers in a list."
   ]
  },
  {
   "cell_type": "code",
   "execution_count": 187,
   "id": "1193a8c5-48a6-486c-b0b3-cee55a3dbda8",
   "metadata": {},
   "outputs": [],
   "source": [
    "def SumOfEven(nums):\n",
    "    result=0\n",
    "    for i in nums:\n",
    "        if i % 2 !=0:\n",
    "            continue\n",
    "        else:\n",
    "            result+=i\n",
    "    return result"
   ]
  },
  {
   "cell_type": "code",
   "execution_count": 188,
   "id": "b3c4133b-b948-40c0-b8ca-5095b36d5f93",
   "metadata": {},
   "outputs": [
    {
     "data": {
      "text/plain": [
       "20"
      ]
     },
     "execution_count": 188,
     "metadata": {},
     "output_type": "execute_result"
    }
   ],
   "source": [
    "SumOfEven([1,2,3,4,5,6,8,7])"
   ]
  },
  {
   "cell_type": "markdown",
   "id": "2a0669e8-673b-4ab9-9efa-9cd3bedac168",
   "metadata": {},
   "source": [
    "### 32. Implement a function to calculate the power of a number using recursion."
   ]
  },
  {
   "cell_type": "code",
   "execution_count": 190,
   "id": "22e5714e-1721-4c18-925d-6faf1f539cd8",
   "metadata": {},
   "outputs": [],
   "source": [
    "def power(base, exponent):\n",
    "    if exponent == 0:\n",
    "        return 1\n",
    "    elif exponent > 0:\n",
    "        return base * power(base, exponent - 1)\n",
    "    else:\n",
    "        return 1 / power(base, -exponent)"
   ]
  },
  {
   "cell_type": "code",
   "execution_count": 191,
   "id": "716ee216-2bb3-4225-9b3c-cc6b76d88813",
   "metadata": {},
   "outputs": [
    {
     "data": {
      "text/plain": [
       "1024"
      ]
     },
     "execution_count": 191,
     "metadata": {},
     "output_type": "execute_result"
    }
   ],
   "source": [
    "power(2,10)"
   ]
  },
  {
   "cell_type": "code",
   "execution_count": 192,
   "id": "e74b123e-b488-4dc1-8c56-e2f5d67624e0",
   "metadata": {},
   "outputs": [
    {
     "data": {
      "text/plain": [
       "531441"
      ]
     },
     "execution_count": 192,
     "metadata": {},
     "output_type": "execute_result"
    }
   ],
   "source": [
    "power(3,12)"
   ]
  },
  {
   "cell_type": "markdown",
   "id": "f96a56a6-79d6-4610-af05-c8839add0eda",
   "metadata": {},
   "source": [
    "### 33. Write a Python program to remove duplicates from a list while preserving the order."
   ]
  },
  {
   "cell_type": "code",
   "execution_count": 198,
   "id": "fa941823-dc97-454d-8036-381111f46fa4",
   "metadata": {},
   "outputs": [],
   "source": [
    "def removeDuplicates(nums):\n",
    "    result = []\n",
    "    for num in nums:\n",
    "        if num not in result:\n",
    "            result.append(num)\n",
    "    return result"
   ]
  },
  {
   "cell_type": "code",
   "execution_count": 199,
   "id": "77d5cd83-c183-4aca-84e5-f8d4d47354a2",
   "metadata": {},
   "outputs": [
    {
     "data": {
      "text/plain": [
       "[1, 2, 3, 6, 4, 5]"
      ]
     },
     "execution_count": 199,
     "metadata": {},
     "output_type": "execute_result"
    }
   ],
   "source": [
    "removeDuplicates([1,2,3,6,4,4,5,6])"
   ]
  },
  {
   "cell_type": "markdown",
   "id": "e64e8f41-be09-4372-8d27-dc30fd976bd1",
   "metadata": {},
   "source": [
    "### 34. Implement a function to find the longest common prefix among a list of strings."
   ]
  },
  {
   "cell_type": "code",
   "execution_count": 200,
   "id": "c65da96b-a15c-4c01-8981-515e4ebb761a",
   "metadata": {},
   "outputs": [],
   "source": [
    "def longestCommonPrefix(strs):\n",
    "    if not strs:\n",
    "        return \"\"\n",
    "\n",
    "    prefix = strs[0]\n",
    "\n",
    "    for string in strs[1:]:\n",
    "        while not string.startswith(prefix):\n",
    "            prefix = prefix[:-1]\n",
    "            if not prefix:\n",
    "                return \"\"\n",
    "\n",
    "    return prefix"
   ]
  },
  {
   "cell_type": "code",
   "execution_count": 203,
   "id": "af0ad29f-b175-4187-8a6a-6c3e4dbc9951",
   "metadata": {},
   "outputs": [
    {
     "data": {
      "text/plain": [
       "'repe'"
      ]
     },
     "execution_count": 203,
     "metadata": {},
     "output_type": "execute_result"
    }
   ],
   "source": [
    "longestCommonPrefix(['repeater','repeating','repeated','repetetive'])"
   ]
  },
  {
   "cell_type": "markdown",
   "id": "112183ed-515e-44d0-85b1-a82c85b70541",
   "metadata": {},
   "source": [
    "### 35. Write a program to check if a given number is a perfect square."
   ]
  },
  {
   "cell_type": "code",
   "execution_count": 204,
   "id": "9dab6e49-ee8e-47b7-af2b-f71211611e5c",
   "metadata": {},
   "outputs": [],
   "source": [
    "def isPerfectSquare(n):\n",
    "    \n",
    "    import math\n",
    "\n",
    "    sqrt = int(math.sqrt(n))\n",
    "    return sqrt * sqrt == n\n"
   ]
  },
  {
   "cell_type": "code",
   "execution_count": 205,
   "id": "2ecab030-eacd-4494-a143-b0b824225cac",
   "metadata": {},
   "outputs": [
    {
     "data": {
      "text/plain": [
       "False"
      ]
     },
     "execution_count": 205,
     "metadata": {},
     "output_type": "execute_result"
    }
   ],
   "source": [
    "isPerfectSquare(24)"
   ]
  },
  {
   "cell_type": "code",
   "execution_count": 206,
   "id": "3115283f-2b7a-4f08-b99c-d56602def182",
   "metadata": {},
   "outputs": [
    {
     "data": {
      "text/plain": [
       "True"
      ]
     },
     "execution_count": 206,
     "metadata": {},
     "output_type": "execute_result"
    }
   ],
   "source": [
    "isPerfectSquare(1024)"
   ]
  },
  {
   "cell_type": "markdown",
   "id": "88a8eaf2-ba44-455d-a560-330d506a73d5",
   "metadata": {},
   "source": [
    "### 36. Implement a function to calculate the product of all elements in a list."
   ]
  },
  {
   "cell_type": "code",
   "execution_count": 215,
   "id": "1eef2468-df22-45f3-bd1b-ca346ac75e12",
   "metadata": {},
   "outputs": [],
   "source": [
    "def Product(nums):\n",
    "    if len(nums)==0:\n",
    "        return 'Please enter a valid list.'\n",
    "    elif len(nums)==1:\n",
    "        return nums[0]\n",
    "    else:\n",
    "        return nums[0] * Product(nums[1:])"
   ]
  },
  {
   "cell_type": "code",
   "execution_count": 216,
   "id": "6a68d305-5b27-4f1d-8994-2bcb3159148c",
   "metadata": {},
   "outputs": [
    {
     "data": {
      "text/plain": [
       "300"
      ]
     },
     "execution_count": 216,
     "metadata": {},
     "output_type": "execute_result"
    }
   ],
   "source": [
    "nums=[1,2,3,5,10]\n",
    "Product(nums)"
   ]
  },
  {
   "cell_type": "code",
   "execution_count": 217,
   "id": "05bb0ffe-54a5-4d30-a839-c1c268444939",
   "metadata": {},
   "outputs": [
    {
     "data": {
      "text/plain": [
       "5040"
      ]
     },
     "execution_count": 217,
     "metadata": {},
     "output_type": "execute_result"
    }
   ],
   "source": [
    "nums=[7,6,5,2,3,4]\n",
    "Product(nums)"
   ]
  },
  {
   "cell_type": "markdown",
   "id": "9599c391-fe21-48fe-a144-158b668f8a38",
   "metadata": {},
   "source": [
    "### 37. Write a Python program to reverse the order of words in a sentence while preserving the word order."
   ]
  },
  {
   "cell_type": "code",
   "execution_count": 3,
   "id": "38bfaa0f-b7f5-4a2a-953a-ec320470891c",
   "metadata": {},
   "outputs": [],
   "source": [
    "def reverse_sentence(sentence):\n",
    "    words = sentence.split()\n",
    "    reversed_words = words[::-1]\n",
    "    reversed_sentence = ' '.join(reversed_words)\n",
    "    return reversed_sentence\n"
   ]
  },
  {
   "cell_type": "code",
   "execution_count": 4,
   "id": "d40a3951-16b0-484d-8a77-a9289fe7ec67",
   "metadata": {},
   "outputs": [
    {
     "data": {
      "text/plain": [
       "'Student a am I Hello'"
      ]
     },
     "execution_count": 4,
     "metadata": {},
     "output_type": "execute_result"
    }
   ],
   "source": [
    "reverse_sentence('Hello I am a Student')"
   ]
  },
  {
   "cell_type": "markdown",
   "id": "9d71b842-ac4e-4787-b7f9-a92a08cf92aa",
   "metadata": {},
   "source": [
    "### 38. Implement a function to find the missing number in a given list of consecutive numbers."
   ]
  },
  {
   "cell_type": "code",
   "execution_count": 23,
   "id": "b3d02dab-9555-4a36-856d-a4c67160078d",
   "metadata": {},
   "outputs": [],
   "source": [
    "def find_missing_number(nums):\n",
    "    n = len(nums) + 1  \n",
    "    expected_sum = (n * (n + 1)) // 2 \n",
    "    actual_sum = sum(nums)\n",
    "    missing_number = expected_sum - actual_sum\n",
    "    return missing_number\n"
   ]
  },
  {
   "cell_type": "code",
   "execution_count": 26,
   "id": "5a849e9b-215a-4ba6-a835-073ff6b7cd2d",
   "metadata": {},
   "outputs": [
    {
     "data": {
      "text/plain": [
       "4"
      ]
     },
     "execution_count": 26,
     "metadata": {},
     "output_type": "execute_result"
    }
   ],
   "source": [
    "nums=[1,2,3,5,6]\n",
    "\n",
    "find_missing_number([1,2,3,5,6])"
   ]
  },
  {
   "cell_type": "markdown",
   "id": "e1ce3a34-c23c-47c8-8fc2-65c705d23393",
   "metadata": {},
   "source": [
    "### 39. Write a program to find the sum of digits of a given number."
   ]
  },
  {
   "cell_type": "code",
   "execution_count": 53,
   "id": "63d1f9d7-f8ba-476b-aa8f-4bc6a52470f9",
   "metadata": {},
   "outputs": [],
   "source": [
    "def SummedDigits(n):\n",
    "    total_sum = 0\n",
    "    while n > 0:\n",
    "        digit = n % 10\n",
    "        total_sum += digit\n",
    "        n //= 10\n",
    "    return total_sum\n"
   ]
  },
  {
   "cell_type": "code",
   "execution_count": 55,
   "id": "4c75c96f-0383-4e22-b4b4-ea52c76763f9",
   "metadata": {},
   "outputs": [
    {
     "data": {
      "text/plain": [
       "7"
      ]
     },
     "execution_count": 55,
     "metadata": {},
     "output_type": "execute_result"
    }
   ],
   "source": [
    "SummedDigits(1024)"
   ]
  },
  {
   "cell_type": "code",
   "execution_count": 56,
   "id": "afd70511-dfe1-4428-b2cb-c74dcbd48467",
   "metadata": {},
   "outputs": [
    {
     "data": {
      "text/plain": [
       "10"
      ]
     },
     "execution_count": 56,
     "metadata": {},
     "output_type": "execute_result"
    }
   ],
   "source": [
    "SummedDigits(2233)"
   ]
  },
  {
   "cell_type": "markdown",
   "id": "8ad8f993-71e1-4e3c-84da-20faa5dc87a6",
   "metadata": {},
   "source": [
    "### 40. Implement a function to check if a given string is a valid palindrome considering case sensitivity."
   ]
  },
  {
   "cell_type": "code",
   "execution_count": 63,
   "id": "44e54f17-81a9-4635-baea-b07a7bdeef82",
   "metadata": {},
   "outputs": [],
   "source": [
    "def isPalindrome(s):\n",
    "    \n",
    "    for i in range(len(s)):\n",
    "        for j in range (len(s)-1,-1,-1):\n",
    "            \n",
    "            if s[i]==s[j]:\n",
    "                return 'The given string is a valid Palindrome.'\n",
    "            else:\n",
    "                return 'The given string is not a valid Palindrome.'\n",
    "            "
   ]
  },
  {
   "cell_type": "code",
   "execution_count": 64,
   "id": "7275d841-799c-4d48-a210-a2d0e2bb22b5",
   "metadata": {},
   "outputs": [
    {
     "data": {
      "text/plain": [
       "'The given string is not a valid Palindrome.'"
      ]
     },
     "execution_count": 64,
     "metadata": {},
     "output_type": "execute_result"
    }
   ],
   "source": [
    "isPalindrome('MadAm')"
   ]
  },
  {
   "cell_type": "code",
   "execution_count": 65,
   "id": "e96a09e7-fb32-4f33-a6ff-7021089ef59e",
   "metadata": {},
   "outputs": [
    {
     "data": {
      "text/plain": [
       "'The given string is not a valid Palindrome.'"
      ]
     },
     "execution_count": 65,
     "metadata": {},
     "output_type": "execute_result"
    }
   ],
   "source": [
    "isPalindrome('Level')"
   ]
  },
  {
   "cell_type": "code",
   "execution_count": 66,
   "id": "6f313add-d231-4d0b-be6e-52fa062c1f5c",
   "metadata": {},
   "outputs": [
    {
     "data": {
      "text/plain": [
       "'The given string is a valid Palindrome.'"
      ]
     },
     "execution_count": 66,
     "metadata": {},
     "output_type": "execute_result"
    }
   ],
   "source": [
    "isPalindrome('LeveL')"
   ]
  },
  {
   "cell_type": "markdown",
   "id": "0d7e57f8-0579-4b54-89d2-a7c4cd774514",
   "metadata": {},
   "source": [
    "### 41. Write a Python program to find the smallest missing positive integer in a list."
   ]
  },
  {
   "cell_type": "code",
   "execution_count": 78,
   "id": "47ecb3f6-6321-46df-9d72-544a1261641b",
   "metadata": {},
   "outputs": [],
   "source": [
    "def find_smallest_missing_positive(nums):\n",
    "    num_set = set(nums)\n",
    "    smallest_missing = 1\n",
    "\n",
    "    while smallest_missing in num_set:\n",
    "        smallest_missing += 1\n",
    "\n",
    "    return smallest_missing"
   ]
  },
  {
   "cell_type": "code",
   "execution_count": 80,
   "id": "79b42667-747d-4732-b2d2-a8a741021bb5",
   "metadata": {},
   "outputs": [
    {
     "data": {
      "text/plain": [
       "7"
      ]
     },
     "execution_count": 80,
     "metadata": {},
     "output_type": "execute_result"
    }
   ],
   "source": [
    "find_smallest_missing_positive([1,2,3,4,5,6,9])"
   ]
  },
  {
   "cell_type": "markdown",
   "id": "69034158-7dea-42be-bbfe-8226ff370abf",
   "metadata": {},
   "source": [
    "### 42. Implement a function to find the longest palindrome substring in a given string."
   ]
  },
  {
   "cell_type": "code",
   "execution_count": 3,
   "id": "ad233af1-1322-4806-8867-6c2845739d92",
   "metadata": {},
   "outputs": [],
   "source": [
    "def longest_palindrome_substring(s):\n",
    "    n = len(s)\n",
    "    longest = \"\"\n",
    "\n",
    "    for i in range(n):\n",
    "        for j in range(i, n):\n",
    "            substring = s[i:j+1]\n",
    "            if substring == substring[::-1] and len(substring) > len(longest):\n",
    "                longest = substring\n",
    "\n",
    "    return longest\n"
   ]
  },
  {
   "cell_type": "code",
   "execution_count": 4,
   "id": "a633cd17-493c-4f8a-9a0c-d034cea01c10",
   "metadata": {},
   "outputs": [
    {
     "data": {
      "text/plain": [
       "'bab'"
      ]
     },
     "execution_count": 4,
     "metadata": {},
     "output_type": "execute_result"
    }
   ],
   "source": [
    "longest_palindrome_substring('babad')"
   ]
  },
  {
   "cell_type": "markdown",
   "id": "5d46b6da-97d8-477b-b98b-a63a50921b6e",
   "metadata": {},
   "source": [
    "### 43. Write a program to find the number of occurrences of a given element in a list."
   ]
  },
  {
   "cell_type": "code",
   "execution_count": 5,
   "id": "b406a9b2-276a-4f84-a74a-d5cbff53b7fc",
   "metadata": {},
   "outputs": [],
   "source": [
    "def counter(lst):\n",
    "    counter={}\n",
    "    for i in lst:\n",
    "        if i not in counter:\n",
    "            counter[i]=1\n",
    "        else:\n",
    "            counter[i]+=1\n",
    "    return counter"
   ]
  },
  {
   "cell_type": "code",
   "execution_count": 6,
   "id": "f5af246e-c051-453c-b656-56d9b2bdffa9",
   "metadata": {},
   "outputs": [
    {
     "data": {
      "text/plain": [
       "{1: 3, 2: 3, 3: 2, 4: 2}"
      ]
     },
     "execution_count": 6,
     "metadata": {},
     "output_type": "execute_result"
    }
   ],
   "source": [
    "counter([1,2,3,4,4,1,2,2,1,3])"
   ]
  },
  {
   "cell_type": "markdown",
   "id": "8d24a018-aba4-4cc2-8096-b4da4126d5f0",
   "metadata": {},
   "source": [
    "### 44. Implement a function to check if a given number is a perfect number."
   ]
  },
  {
   "cell_type": "code",
   "execution_count": 10,
   "id": "3a6bd954-847e-4c16-a8e8-a02718288cbd",
   "metadata": {},
   "outputs": [],
   "source": [
    "def perfect_number(num):\n",
    "    \n",
    "    Divisors_list=[]\n",
    "    for i in range(1,num):\n",
    "        if (num % i ==0):\n",
    "            Divisors_list.append(i)\n",
    "    return sum(Divisors_list)==num"
   ]
  },
  {
   "cell_type": "code",
   "execution_count": 11,
   "id": "a3a05b08-a50f-4faf-95be-47483bb4a377",
   "metadata": {},
   "outputs": [
    {
     "data": {
      "text/plain": [
       "True"
      ]
     },
     "execution_count": 11,
     "metadata": {},
     "output_type": "execute_result"
    }
   ],
   "source": [
    "perfect_number(6)"
   ]
  },
  {
   "cell_type": "code",
   "execution_count": 12,
   "id": "1c03540e-7bcd-4c67-8056-d6c36d99a2cb",
   "metadata": {},
   "outputs": [
    {
     "data": {
      "text/plain": [
       "False"
      ]
     },
     "execution_count": 12,
     "metadata": {},
     "output_type": "execute_result"
    }
   ],
   "source": [
    "perfect_number(12)"
   ]
  },
  {
   "cell_type": "markdown",
   "id": "16285a1c-7be4-4a17-bd19-eedc1995fedc",
   "metadata": {},
   "source": [
    "### 45. Write a Python program to remove all duplicates from a string."
   ]
  },
  {
   "cell_type": "code",
   "execution_count": 34,
   "id": "3b2fb20d-546d-454e-a853-0ddb15058dd9",
   "metadata": {},
   "outputs": [],
   "source": [
    "def duplicated(s):\n",
    "    s1 = s.split(' ')\n",
    "    count={}\n",
    "    for i in s1:\n",
    "        if i not in count:\n",
    "            count[i]=1\n",
    "        else:\n",
    "            s1.remove(i)\n",
    "    return ' '.join(s1)"
   ]
  },
  {
   "cell_type": "code",
   "execution_count": 35,
   "id": "00087046-6940-42bf-b888-d92385e5e92a",
   "metadata": {},
   "outputs": [
    {
     "data": {
      "text/plain": [
       "'Hello'"
      ]
     },
     "execution_count": 35,
     "metadata": {},
     "output_type": "execute_result"
    }
   ],
   "source": [
    "s='Hello Hello'\n",
    "duplicated(s)"
   ]
  },
  {
   "cell_type": "code",
   "execution_count": 36,
   "id": "6ded5df3-7554-4c6e-9a48-340bd7df0808",
   "metadata": {},
   "outputs": [
    {
     "data": {
      "text/plain": [
       "'My is name is XYZ'"
      ]
     },
     "execution_count": 36,
     "metadata": {},
     "output_type": "execute_result"
    }
   ],
   "source": [
    "s='My name is name is XYZ'\n",
    "duplicated(s)"
   ]
  },
  {
   "cell_type": "markdown",
   "id": "8788cb5c-dc21-4e36-a21c-427562ac264a",
   "metadata": {},
   "source": [
    "### 46. Implement a function to find the first missing positive"
   ]
  },
  {
   "cell_type": "code",
   "execution_count": 37,
   "id": "3d7cb92a-6059-46ce-97eb-623089e408a0",
   "metadata": {},
   "outputs": [],
   "source": [
    "def find_missing_number(nums):\n",
    "    n = len(nums) + 1  \n",
    "    expected_sum = (n * (n + 1)) // 2 \n",
    "    actual_sum = sum(nums)\n",
    "    missing_number = expected_sum - actual_sum\n",
    "    return missing_number"
   ]
  },
  {
   "cell_type": "code",
   "execution_count": 38,
   "id": "e1994341-aa4d-485d-b1ae-49f5a590c039",
   "metadata": {},
   "outputs": [
    {
     "data": {
      "text/plain": [
       "4"
      ]
     },
     "execution_count": 38,
     "metadata": {},
     "output_type": "execute_result"
    }
   ],
   "source": [
    "find_missing_number([1,2,3,5,6,7,8])"
   ]
  },
  {
   "cell_type": "code",
   "execution_count": 39,
   "id": "81f1c97f-d1c6-45fd-b637-7de80e3f60a1",
   "metadata": {},
   "outputs": [
    {
     "data": {
      "text/plain": [
       "12"
      ]
     },
     "execution_count": 39,
     "metadata": {},
     "output_type": "execute_result"
    }
   ],
   "source": [
    "find_missing_number([1,2,3,4,5,6,7,8,9,10,11])"
   ]
  },
  {
   "cell_type": "markdown",
   "id": "286b045e-d26c-4f85-a157-425d6b423f1f",
   "metadata": {},
   "source": [
    "## The End"
   ]
  }
 ],
 "metadata": {
  "kernelspec": {
   "display_name": "Python 3 (ipykernel)",
   "language": "python",
   "name": "python3"
  },
  "language_info": {
   "codemirror_mode": {
    "name": "ipython",
    "version": 3
   },
   "file_extension": ".py",
   "mimetype": "text/x-python",
   "name": "python",
   "nbconvert_exporter": "python",
   "pygments_lexer": "ipython3",
   "version": "3.10.8"
  },
  "toc-autonumbering": false,
  "toc-showcode": false,
  "toc-showmarkdowntxt": false,
  "toc-showtags": false
 },
 "nbformat": 4,
 "nbformat_minor": 5
}
