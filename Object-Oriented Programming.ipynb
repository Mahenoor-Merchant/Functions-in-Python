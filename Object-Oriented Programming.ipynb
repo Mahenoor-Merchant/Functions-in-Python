{
 "cells": [
  {
   "cell_type": "markdown",
   "id": "b1877580-8f61-4332-9ad0-eb6c6bf38f4d",
   "metadata": {},
   "source": [
    "Q1. Explain Class and Object with respect to Object-Oriented Programming. Give a suitable example."
   ]
  },
  {
   "cell_type": "markdown",
   "id": "bbdb8122-4b41-44af-b76a-efb6a50d99aa",
   "metadata": {},
   "source": [
    "ANS: A Class is a blue print for creating objects, allowing you to define the atributes and behaviours of object of a particular type. An Object is an instance of a class, which represents real world entities such as a person, a car, etc.\n",
    "Everything in python is object, including data types such as numbers , strings, and lists."
   ]
  },
  {
   "cell_type": "code",
   "execution_count": 1,
   "id": "3859826d-0324-4424-8bbf-61731ebc0add",
   "metadata": {},
   "outputs": [],
   "source": [
    "s=\"inueron\""
   ]
  },
  {
   "cell_type": "code",
   "execution_count": 2,
   "id": "6c24d293-3540-4b8d-9cc5-f5c46267122d",
   "metadata": {},
   "outputs": [
    {
     "name": "stdout",
     "output_type": "stream",
     "text": [
      "<class 'str'>\n"
     ]
    }
   ],
   "source": [
    "print(type(s))"
   ]
  },
  {
   "cell_type": "markdown",
   "id": "24cc40dc-5f8a-4dc7-a50c-38edfcabc6be",
   "metadata": {},
   "source": [
    "The result shows type of \"s\" as a class 'str' which means it belongs to the class strings."
   ]
  },
  {
   "cell_type": "markdown",
   "id": "18caec1f-6c30-4a29-a3a2-4af35cc43e59",
   "metadata": {},
   "source": [
    "In the above example \"inueron\" is ab object of class 'str'."
   ]
  },
  {
   "cell_type": "markdown",
   "id": "e632ecf2-b424-4dd4-9bfa-3b401f089f64",
   "metadata": {},
   "source": [
    "\n",
    "Q2. Name the four pillars of OOPs.\n",
    "\n",
    "ANS: The Four Pillars of Object-Oriented Programming:\n",
    "1.Abstraction.\n",
    "2.Encapsulation.\n",
    "3.Inheritance.\n",
    "4.Polymorphism."
   ]
  },
  {
   "cell_type": "markdown",
   "id": "e3d32167-7dbe-490a-bc35-c01cf827fef8",
   "metadata": {},
   "source": [
    "Q3. Explain why the __init__() function is used. Give a suitable example.\n",
    "\n",
    "ANS: In Python, __init__() function is used to initialize the data membes of the class when an object of class is create.\n",
    "It function is a special method that is used to initialize an instance of a class. It is called when an object of the class is created, and can be used to set the initial values of the instance variables of the object.\n",
    "\n",
    "The __init__() function takes in at least one argument, which is typically called self. This argument refers to the object being created, and is used to access its instance variables and methods.\n",
    "\n",
    "EXAMPLE IS AS FOLLOWS:"
   ]
  },
  {
   "cell_type": "code",
   "execution_count": 3,
   "id": "7571197e-f841-4076-ba6d-f20b5db312b0",
   "metadata": {},
   "outputs": [],
   "source": [
    "class inueron():\n",
    "    def __init__(self,name,phone_number,email_id,student_id):\n",
    "        self.name=name\n",
    "        self.phone_number=phone_number\n",
    "        self.email_id=email_id\n",
    "        self.student_id=student_id\n",
    "        \n",
    "    def return_students_details(self):\n",
    "        return self.name,self.phone_number,self.email_id,self.student_id\n",
    "        \n",
    "    "
   ]
  },
  {
   "cell_type": "code",
   "execution_count": 7,
   "id": "4cc68822-8ff7-4a6e-9c42-44a6c5381e67",
   "metadata": {},
   "outputs": [],
   "source": [
    "ARJUN=inueron(\"Arjun\",9876543210,\"arjun@gmail.com\",85)"
   ]
  },
  {
   "cell_type": "code",
   "execution_count": 11,
   "id": "b7c9a1ef-97a3-41f5-b232-81a8f81c7393",
   "metadata": {},
   "outputs": [
    {
     "data": {
      "text/plain": [
       "('Arjun', 9876543210, 'arjun@gmail.com', 85)"
      ]
     },
     "execution_count": 11,
     "metadata": {},
     "output_type": "execute_result"
    }
   ],
   "source": [
    "ARJUN.return_students_details()"
   ]
  },
  {
   "cell_type": "markdown",
   "id": "142ff021-e049-423e-bfe4-70af949c5120",
   "metadata": {},
   "source": [
    "Q4. Why self is used in OOPs?"
   ]
  },
  {
   "cell_type": "markdown",
   "id": "c56abdab-245b-41ab-b897-7ba2beef539f",
   "metadata": {},
   "source": [
    "ANS: In object-oriented programming, \"self\" is used to refer to the instance of a class that a method is being called on. It allows the method to access and manipulate the properties and methods of the specific instance of the class that it's being called on, rather than just the class as a whole. This helps to ensure that each instance of the class is treated as a separate entity with its own unique state and behavior"
   ]
  },
  {
   "cell_type": "markdown",
   "id": "f03dcaba-fc9a-4aa8-b359-ef77cff0429e",
   "metadata": {},
   "source": [
    "Q5. What is inheritance? Give an example for each type of inheritance."
   ]
  },
  {
   "cell_type": "markdown",
   "id": "65ea5226-1922-4294-bbae-c1d558334ba6",
   "metadata": {},
   "source": [
    "INHERITANCE SIMPLY MEANS TO INHERIT.IN INHERITANCE,THERE IS A PARENT CLASS (THE CLASS WHOSE FUNCTIONS ARE BEING INHERITED)AND THE CHILD CLASS (THE CLASS WHICH INHERITS THE CHARACTERISTICS OF PARENT CLASS).\n",
    "THERE ARE TWO TYPES OF INHERITANCE: 1]MULTI/ MULTI-LABEL INHERITANCE AND 2]MULTIPLE INHERITANCE.\n"
   ]
  },
  {
   "cell_type": "markdown",
   "id": "03e31bdc-f82c-4377-9794-70830ff58dca",
   "metadata": {},
   "source": [
    "EXAMPLE OF MULTI INHERITANCE IS AS FOLLOWS:"
   ]
  },
  {
   "cell_type": "code",
   "execution_count": 1,
   "id": "fd53363a-a4a8-48fe-ae66-658520e40878",
   "metadata": {},
   "outputs": [],
   "source": [
    "class parent:\n",
    "    def parent(self):\n",
    "        return\"this is a parent class\""
   ]
  },
  {
   "cell_type": "code",
   "execution_count": 4,
   "id": "68cc0b3b-518f-4eb0-931d-0f7f8d570405",
   "metadata": {},
   "outputs": [],
   "source": [
    "class child1(parent):\n",
    "    def child1(self):\n",
    "        return\"this is child1\""
   ]
  },
  {
   "cell_type": "code",
   "execution_count": 6,
   "id": "06e353aa-8a0f-4212-b66c-2bcac3f4c42f",
   "metadata": {},
   "outputs": [],
   "source": [
    "class child2(child1):\n",
    "    def child2(self):\n",
    "        pass\n"
   ]
  },
  {
   "cell_type": "code",
   "execution_count": 7,
   "id": "40c8163f-38ed-4104-a0b3-7254a875a48f",
   "metadata": {},
   "outputs": [],
   "source": [
    "obj_child2=child2()"
   ]
  },
  {
   "cell_type": "code",
   "execution_count": 9,
   "id": "1d136ab5-d965-4a6b-becf-702f10c974fb",
   "metadata": {},
   "outputs": [
    {
     "data": {
      "text/plain": [
       "'this is child1'"
      ]
     },
     "execution_count": 9,
     "metadata": {},
     "output_type": "execute_result"
    }
   ],
   "source": [
    "obj_child2.child1()"
   ]
  },
  {
   "cell_type": "code",
   "execution_count": 10,
   "id": "c9eb9c42-213d-486f-9bd9-00083ff421bd",
   "metadata": {},
   "outputs": [
    {
     "data": {
      "text/plain": [
       "'this is a parent class'"
      ]
     },
     "execution_count": 10,
     "metadata": {},
     "output_type": "execute_result"
    }
   ],
   "source": [
    "obj_child2.parent()"
   ]
  },
  {
   "cell_type": "markdown",
   "id": "4cb9fd6d-8fbf-4931-8406-65a2b97aac4f",
   "metadata": {},
   "source": [
    "EXAMPLE OF MULTIPLE INHERITANCE IS :"
   ]
  },
  {
   "cell_type": "code",
   "execution_count": 22,
   "id": "50063a4d-88f7-4d7e-9637-7eb03d4d6a98",
   "metadata": {},
   "outputs": [],
   "source": [
    "class class1:\n",
    "    def test_class1(self):\n",
    "        return\"this is class 1\""
   ]
  },
  {
   "cell_type": "code",
   "execution_count": 23,
   "id": "4d604d3a-7844-4ffb-ba3b-9933f86b55ac",
   "metadata": {},
   "outputs": [],
   "source": [
    "class class2:\n",
    "    def test_class2(self):\n",
    "        return\"this is class 2\""
   ]
  },
  {
   "cell_type": "code",
   "execution_count": 24,
   "id": "a09cd551-2438-478f-a7b8-db6cb253c866",
   "metadata": {},
   "outputs": [],
   "source": [
    "class class3(class1,class2):\n",
    "        pass"
   ]
  },
  {
   "cell_type": "code",
   "execution_count": 25,
   "id": "7b7100f6-6ff7-44ab-98bf-96f5248d9b8b",
   "metadata": {},
   "outputs": [],
   "source": [
    "object_class3=class3()"
   ]
  },
  {
   "cell_type": "code",
   "execution_count": 26,
   "id": "a443c08b-2a45-427a-96d1-2817db70806b",
   "metadata": {},
   "outputs": [
    {
     "data": {
      "text/plain": [
       "'this is class 1'"
      ]
     },
     "execution_count": 26,
     "metadata": {},
     "output_type": "execute_result"
    }
   ],
   "source": [
    "object_class3.test_class1()"
   ]
  },
  {
   "cell_type": "code",
   "execution_count": 27,
   "id": "65e61e86-d00a-4be6-971b-a2347d76050e",
   "metadata": {},
   "outputs": [
    {
     "data": {
      "text/plain": [
       "'this is class 2'"
      ]
     },
     "execution_count": 27,
     "metadata": {},
     "output_type": "execute_result"
    }
   ],
   "source": [
    "object_class3.test_class2()"
   ]
  },
  {
   "cell_type": "markdown",
   "id": "24ccc448-5cd6-46a3-8cb1-cfbc351f0c4c",
   "metadata": {},
   "source": [
    "AS WE CAN SEE , IN MULTI INHERITANCE THE CHILD CLASS2 INHERITS THE FUNCTIONS OF CHILD CLASS 1 AND CHILD CLASS 1 INHERITS THE FUNCTIONS OF THE PARENT CLASS.SO,CHILD CLASS 2  I. IN CASE OF MULTIPLE INHERITANCE THE CLASS 3 INHERITS THE FUNCTIONS AS IN CLASS 1 ANS CLASS 2."
   ]
  }
 ],
 "metadata": {
  "kernelspec": {
   "display_name": "Python 3 (ipykernel)",
   "language": "python",
   "name": "python3"
  },
  "language_info": {
   "codemirror_mode": {
    "name": "ipython",
    "version": 3
   },
   "file_extension": ".py",
   "mimetype": "text/x-python",
   "name": "python",
   "nbconvert_exporter": "python",
   "pygments_lexer": "ipython3",
   "version": "3.10.8"
  }
 },
 "nbformat": 4,
 "nbformat_minor": 5
}
