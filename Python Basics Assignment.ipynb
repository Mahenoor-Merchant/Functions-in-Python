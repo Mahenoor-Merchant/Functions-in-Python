{
 "cells": [
  {
   "cell_type": "code",
   "execution_count": 1,
   "id": "10f2234d-8832-47ed-9a22-74d96e539209",
   "metadata": {},
   "outputs": [
    {
     "name": "stdout",
     "output_type": "stream",
     "text": [
      "Who developed Python progamming language? Guido van Rossum developed Python Progamming language.\n"
     ]
    }
   ],
   "source": [
    "print(\"Who developed Python progamming language?\"\n",
    "\" Guido van Rossum developed Python Progamming language.\")"
   ]
  },
  {
   "cell_type": "code",
   "execution_count": 2,
   "id": "a509b301-4d20-4435-a95f-f82665d42c44",
   "metadata": {},
   "outputs": [
    {
     "name": "stdout",
     "output_type": "stream",
     "text": [
      "Which type of programming does python support? Python is an interpreted programming language, supporting object-oriented, structured, and functional programming.\n"
     ]
    }
   ],
   "source": [
    "print(\"Which type of programming does python support?\"\n",
    "      \" Python is an interpreted programming language, supporting object-oriented, structured, and functional programming.\")\n"
   ]
  },
  {
   "cell_type": "code",
   "execution_count": 3,
   "id": "17bb42f6-2d69-4b8f-b688-f67dd8536d4e",
   "metadata": {},
   "outputs": [
    {
     "name": "stdout",
     "output_type": "stream",
     "text": [
      "Is Python case sensitive when dealing with identifier? Yes, Python is a case-sensitive language, i.e., it treats uppercase and lowercase characters differently. This applies to identifiers too.\n"
     ]
    }
   ],
   "source": [
    "print(\"Is Python case sensitive when dealing with identifier?\"\n",
    "      \" Yes, Python is a case-sensitive language, i.e., it treats uppercase and lowercase characters differently.\"\n",
    "      \" This applies to identifiers too.\")"
   ]
  },
  {
   "cell_type": "code",
   "execution_count": 4,
   "id": "0d312900-8d63-4ab2-80bc-d4bbf4ce34e6",
   "metadata": {},
   "outputs": [
    {
     "name": "stdout",
     "output_type": "stream",
     "text": [
      "What is the correct extension of the Python file? Python file extensions are .py .pyi .pyc .pyd .pyo .pyw .pyz\n"
     ]
    }
   ],
   "source": [
    "print(\"What is the correct extension of the Python file?\"\n",
    "     \" Python file extensions are .py .pyi .pyc .pyd .pyo .pyw .pyz\")"
   ]
  },
  {
   "cell_type": "code",
   "execution_count": 5,
   "id": "40d823de-fb13-48e9-94eb-152b16dad678",
   "metadata": {},
   "outputs": [
    {
     "name": "stdout",
     "output_type": "stream",
     "text": [
      "Is Python code compiled or interpreted?Python is both compiled as well as interpreted language, which means when we run a python code it is first compiled and then interpreted line by line\n"
     ]
    }
   ],
   "source": [
    "print(\"Is Python code compiled or interpreted?\"\n",
    "    \"Python is both compiled as well as interpreted language,\"\n",
    "      \" which means when we run a python code it is first compiled and then interpreted line by line\")"
   ]
  },
  {
   "cell_type": "code",
   "execution_count": 6,
   "id": "a61237a8-f6e0-4c1c-b6a0-895f136bc622",
   "metadata": {},
   "outputs": [
    {
     "name": "stdout",
     "output_type": "stream",
     "text": [
      "Name a few blocks of code used to define in python.A block is a piece of Python program text that is executed as a unit.The following are blocks: a module, a function body, and a class definition.\n"
     ]
    }
   ],
   "source": [
    "print(\"Name a few blocks of code used to define in python.\"\n",
    "      \"A block is a piece of Python program text that is executed as a unit.\"\n",
    "     \"The following are blocks: a module, a function body, and a class definition.\")"
   ]
  },
  {
   "cell_type": "code",
   "execution_count": 7,
   "id": "549909ec-f3ba-43dd-a5f9-2ae0cdd38df3",
   "metadata": {},
   "outputs": [
    {
     "name": "stdout",
     "output_type": "stream",
     "text": [
      "State a character used to give single line comments in python \n"
     ]
    }
   ],
   "source": [
    "print(\"State a character used to give single line comments in python \")\n",
    "     #the character '#' is used to give single-line comments in python"
   ]
  },
  {
   "cell_type": "code",
   "execution_count": 8,
   "id": "3e24c845-63fb-4381-9922-3c3ddfdf39ce",
   "metadata": {},
   "outputs": [
    {
     "name": "stdout",
     "output_type": "stream",
     "text": [
      "Mention functions which can help us to find the version of python that we are currently working on?To get the Version of the python Interpreter, they are listed as follows:Using sys. version method.Using python_version() function.Using Python -V command.\n"
     ]
    }
   ],
   "source": [
    "print(\"Mention functions which can help us to find the version of python that we are currently working on?\"\n",
    "     \"To get the Version of the python Interpreter, they are listed as follows:\"\n",
    "     \"Using sys. version method.\"\n",
    "     \"Using python_version() function.\"\n",
    "     \"Using Python -V command.\")"
   ]
  },
  {
   "cell_type": "code",
   "execution_count": 9,
   "id": "e8844a1b-3b22-4031-9c50-4df0e3c914dc",
   "metadata": {},
   "outputs": [
    {
     "name": "stdout",
     "output_type": "stream",
     "text": [
      "Python supports the creation of anonymous functions at runtime, using a construct called 'LAMBDA'\n"
     ]
    }
   ],
   "source": [
    "print(\"Python supports the creation of anonymous functions at runtime, using a construct called 'LAMBDA'\")"
   ]
  },
  {
   "cell_type": "code",
   "execution_count": 2,
   "id": "4e5d612b-924d-47ab-8894-9012989f55f4",
   "metadata": {},
   "outputs": [
    {
     "name": "stdout",
     "output_type": "stream",
     "text": [
      "What does pip stand for in Python? pip stands for'Preferred Installer Program'\n"
     ]
    }
   ],
   "source": [
    "print(\"What does pip stand for in Python?\"\n",
    "     \" pip stands for'Preferred Installer Program'\")"
   ]
  },
  {
   "cell_type": "code",
   "execution_count": 3,
   "id": "575678a2-e411-4bc9-bfe5-964d3007d2fb",
   "metadata": {},
   "outputs": [
    {
     "name": "stdout",
     "output_type": "stream",
     "text": [
      "Mention a few built in functions in pythonprint() function.type() function.input() function. abs() function.pow() function.dir() function.sorted() function.max() function.\n"
     ]
    }
   ],
   "source": [
    "print(\"Mention a few built in functions in python\"\n",
    " \"print() function.\"\n",
    "\n",
    "\"type() function.\"\n",
    "\n",
    "\"input() function. abs() function.\"\n",
    "\n",
    "\"pow() function.\"\n",
    "\n",
    "\"dir() function.\"\n",
    "\n",
    "\"sorted() function.\"\n",
    "\n",
    "\"max() function.\")"
   ]
  },
  {
   "cell_type": "code",
   "execution_count": 5,
   "id": "194481cf-cd69-4645-a1c0-68edecdf919f",
   "metadata": {},
   "outputs": [
    {
     "name": "stdout",
     "output_type": "stream",
     "text": [
      "What is the maximum possible length of an identifierAn identifier can have a maximum length of 79 characters in Python.\n"
     ]
    }
   ],
   "source": [
    "print(\"What is the maximum possible length of an identifier\"\n",
    "     \"An identifier can have a maximum length of 79 characters in Python.\")\n"
   ]
  },
  {
   "cell_type": "code",
   "execution_count": 7,
   "id": "cf1aefb9-b005-441b-9bf5-d224f48c6eb5",
   "metadata": {},
   "outputs": [
    {
     "name": "stdout",
     "output_type": "stream",
     "text": [
      "What are the benefits of using python?1.Easy to use 2.Easy to read 3.Poratble 4.Object oriented 5.Extensible 6.Procedure oriented.\n"
     ]
    }
   ],
   "source": [
    "print(\"What are the benefits of using python?\"\n",
    "      \"1.Easy to use\"\n",
    "      \" 2.Easy to read\"\n",
    "      \" 3.Poratble\"\n",
    "    \" 4.Object oriented\"\n",
    "     \" 5.Extensible\"\n",
    "     \" 6.Procedure oriented.\")"
   ]
  },
  {
   "cell_type": "code",
   "execution_count": 9,
   "id": "c09e5acf-c12b-4cad-b65c-160a86595055",
   "metadata": {},
   "outputs": [
    {
     "name": "stdout",
     "output_type": "stream",
     "text": [
      "How is meory managed in Python? Memory management in Python involves a private heap containing all Python objects and data structures.The management of this private heap is ensured internally by the Python memory manager.\n"
     ]
    }
   ],
   "source": [
    "print(\"How is meory managed in Python?\"\n",
    "     \" Memory management in Python involves a private heap containing all Python objects and data structures.\"\n",
    "      \"The management of this private heap is ensured internally by the Python memory manager.\")"
   ]
  },
  {
   "cell_type": "code",
   "execution_count": 12,
   "id": "375020ea-7ae1-46b4-8b22-13dfe2712535",
   "metadata": {},
   "outputs": [
    {
     "name": "stdout",
     "output_type": "stream",
     "text": [
      "How to install Python on Windows and set path variables?  Open a browser to the Python website and download the Windows installer. Double click on the downloaded file and install Python for all users. click on install now to beginThe complete path of python.exe can be added by: 1. Right-clicking This PC and going to Properties. 2. Clicking on the Advanced system settings in the menu on the left. 3. Clicking on the Environment Variables button on the bottom right. 4. In the System variables section, selecting the Path variable and clicking on Edit.The next screen will show all the directories that are currently a part of the PATH variable.5. Clicking on New and entering Python's install directory.\n"
     ]
    }
   ],
   "source": [
    "print(\"How to install Python on Windows and set path variables?\"\n",
    "     \"  Open a browser to the Python website and download the Windows installer.\"\n",
    "     \" Double click on the downloaded file and install Python for all users.\"\n",
    "     \" click on install now to begin\"\n",
    "      \"The complete path of python.exe can be added by:\"\n",
    "\n",
    "\" 1. Right-clicking This PC and going to Properties.\"\n",
    "\n",
    "\" 2. Clicking on the Advanced system settings in the menu on the left.\"\n",
    "\n",
    "\" 3. Clicking on the Environment Variables button on the bottom right.\"\n",
    "\n",
    "\" 4. In the System variables section, selecting the Path variable and clicking on Edit.\"\n",
    "      \"The next screen will show all the directories that are currently a part of the PATH variable.\"\n",
    "\n",
    "\"5. Clicking on New and entering Python's install directory.\")"
   ]
  },
  {
   "cell_type": "code",
   "execution_count": 13,
   "id": "3189c73a-657e-4824-a2b7-b97ef8fb0bf9",
   "metadata": {},
   "outputs": [
    {
     "name": "stdout",
     "output_type": "stream",
     "text": [
      "Is identation required in python?Indentation refers to the spaces at the beginning of a code line.Where in other programming languages the indentation in code is for readability only, the indentation in Python is very important.\n"
     ]
    }
   ],
   "source": [
    "print(\"Is identation required in python?\"\n",
    "      \"Indentation refers to the spaces at the beginning of a code line.\"\n",
    "      \"Where in other programming languages the indentation in code is for readability only, the indentation in Python is very important.\")"
   ]
  },
  {
   "cell_type": "code",
   "execution_count": null,
   "id": "4a2ca6a2-b1af-4383-a7ce-95461e8cbd20",
   "metadata": {},
   "outputs": [],
   "source": []
  }
 ],
 "metadata": {
  "kernelspec": {
   "display_name": "Python 3 (ipykernel)",
   "language": "python",
   "name": "python3"
  },
  "language_info": {
   "codemirror_mode": {
    "name": "ipython",
    "version": 3
   },
   "file_extension": ".py",
   "mimetype": "text/x-python",
   "name": "python",
   "nbconvert_exporter": "python",
   "pygments_lexer": "ipython3",
   "version": "3.10.8"
  }
 },
 "nbformat": 4,
 "nbformat_minor": 5
}
